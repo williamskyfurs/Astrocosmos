{
 "cells": [
  {
   "cell_type": "markdown",
   "id": "fdb2a307",
   "metadata": {},
   "source": [
    "# Installing Libraries"
   ]
  },
  {
   "cell_type": "code",
   "execution_count": null,
   "id": "c81f6443",
   "metadata": {},
   "outputs": [],
   "source": [
    "pip install plotly"
   ]
  },
  {
   "cell_type": "code",
   "execution_count": null,
   "id": "50274271",
   "metadata": {},
   "outputs": [],
   "source": [
    "pip install --upgrade nbformat"
   ]
  },
  {
   "cell_type": "code",
   "execution_count": null,
   "id": "d7f15e7a",
   "metadata": {},
   "outputs": [],
   "source": [
    "pip install openpyxl"
   ]
  },
  {
   "cell_type": "code",
   "execution_count": 30,
   "id": "1d39fa01",
   "metadata": {},
   "outputs": [],
   "source": [
    "import matplotlib.pyplot as plt\n",
    "import numpy as np\n",
    "import plotly.express as px\n",
    "import pandas as pd\n",
    "import plotly.graph_objects as go"
   ]
  },
  {
   "cell_type": "markdown",
   "id": "081676ab",
   "metadata": {},
   "source": [
    "# Scatterplot Examples"
   ]
  },
  {
   "cell_type": "code",
   "execution_count": null,
   "id": "e91c7b63",
   "metadata": {},
   "outputs": [],
   "source": [
    "# Sample data\n",
    "np.random.seed(0)\n",
    "x = np.random.rand(50)\n",
    "y = np.random.rand(50)\n",
    "z = np.random.rand(50)\n",
    "c = np.random.rand(50)  # 4th dimension (e.g., temperature)\n",
    "\n",
    "fig = plt.figure()\n",
    "ax = fig.add_subplot(111, projection='3d')\n",
    "sc = ax.scatter(x, y, z, c=c, cmap='viridis')\n",
    "\n",
    "# Add colorbar to show 4th dimension\n",
    "plt.colorbar(sc, label='4th Dimension (e.g., Temperature)')\n",
    "ax.set_xlabel('X')\n",
    "ax.set_ylabel('Y')\n",
    "ax.set_zlabel('Z')\n",
    "plt.title('4D Scatter Plot in 3D Space')"
   ]
  },
  {
   "cell_type": "markdown",
   "id": "1c220cd9",
   "metadata": {},
   "source": [
    "## Interactive 5D scatter plot"
   ]
  },
  {
   "cell_type": "code",
   "execution_count": null,
   "id": "f5d0a9a7",
   "metadata": {},
   "outputs": [],
   "source": [
    "# Sample data\n",
    "np.random.seed(0)\n",
    "df = pd.DataFrame({\n",
    "    'x': np.random.rand(50),\n",
    "    'y': np.random.rand(50),\n",
    "    'z': np.random.rand(50),\n",
    "    'color': np.random.rand(50),\n",
    "    'size': np.random.rand(50) * 30  # 4th dimension as size\n",
    "})\n",
    "\n",
    "fig = px.scatter_3d(df, x='x', y='y', z='z',\n",
    "                    color='color', size='size',\n",
    "                    color_continuous_scale='Viridis',\n",
    "                    title='Interactive 4D Scatter Plot')\n",
    "fig.show()"
   ]
  },
  {
   "cell_type": "markdown",
   "id": "de5aae5a",
   "metadata": {},
   "source": [
    "## Interactive 3D scatter plot with poles\n"
   ]
  },
  {
   "cell_type": "code",
   "execution_count": null,
   "id": "3c33a5db",
   "metadata": {},
   "outputs": [],
   "source": [
    "import plotly.graph_objects as go\n",
    "import numpy as np\n",
    "\n",
    "# Sample data\n",
    "np.random.seed(0)\n",
    "x = np.random.uniform(-30, 30, 50)\n",
    "y = np.random.uniform(-30, 30, 50)\n",
    "z = np.random.uniform(-30, 30, 50)\n",
    "\n",
    "# Data points\n",
    "scatter = go.Scatter3d(\n",
    "    x=x,\n",
    "    y=y,\n",
    "    z=z,\n",
    "    mode='markers',\n",
    "    marker=dict(\n",
    "        size=5,\n",
    "        color=z,\n",
    "        colorscale='Viridis',\n",
    "        opacity=0.8\n",
    "    ),\n",
    "    name='Data'\n",
    ")\n",
    "\n",
    "# Custom axis lines\n",
    "axis_x = go.Scatter3d(x=[-50, 50], y=[0, 0], z=[0, 0], mode='lines',\n",
    "                      line=dict(color='red', width=4), name='X Axis')\n",
    "axis_y = go.Scatter3d(x=[0, 0], y=[-50, 50], z=[0, 0], mode='lines',\n",
    "                      line=dict(color='green', width=4), name='Y Axis')\n",
    "axis_z = go.Scatter3d(x=[0, 0], y=[0, 0], z=[-50, 50], mode='lines',\n",
    "                      line=dict(color='blue', width=4), name='Z Axis')\n",
    "\n",
    "fig = go.Figure(data=[scatter, axis_x, axis_y, axis_z])\n",
    "\n",
    "fig.update_layout(\n",
    "    scene=dict(\n",
    "        xaxis=dict(range=[-50, 50]),\n",
    "        yaxis=dict(range=[-50, 50]),\n",
    "        zaxis=dict(range=[-50, 50])\n",
    "    ),\n",
    "    title='3D Scatter with Floating Axis Lines'\n",
    ")"
   ]
  },
  {
   "cell_type": "markdown",
   "id": "00869f3b",
   "metadata": {},
   "source": [
    "## Mega Scale"
   ]
  },
  {
   "cell_type": "code",
   "execution_count": 39,
   "id": "fd222eae",
   "metadata": {},
   "outputs": [
    {
     "data": {
      "application/vnd.plotly.v1+json": {
       "config": {
        "plotlyServerURL": "https://plot.ly"
       },
       "data": [
        {
         "marker": {
          "color": "cyan",
          "opacity": 0.8,
          "size": [
           1000000,
           500000,
           250000
          ],
          "sizemin": 2,
          "sizemode": "area",
          "sizeref": 800
         },
         "mode": "markers",
         "type": "scatter3d",
         "x": [
          0,
          1,
          2
         ],
         "y": [
          0,
          1,
          2
         ],
         "z": [
          0,
          1,
          2
         ]
        }
       ],
       "layout": {
        "template": {
         "data": {
          "bar": [
           {
            "error_x": {
             "color": "#2a3f5f"
            },
            "error_y": {
             "color": "#2a3f5f"
            },
            "marker": {
             "line": {
              "color": "#E5ECF6",
              "width": 0.5
             },
             "pattern": {
              "fillmode": "overlay",
              "size": 10,
              "solidity": 0.2
             }
            },
            "type": "bar"
           }
          ],
          "barpolar": [
           {
            "marker": {
             "line": {
              "color": "#E5ECF6",
              "width": 0.5
             },
             "pattern": {
              "fillmode": "overlay",
              "size": 10,
              "solidity": 0.2
             }
            },
            "type": "barpolar"
           }
          ],
          "carpet": [
           {
            "aaxis": {
             "endlinecolor": "#2a3f5f",
             "gridcolor": "white",
             "linecolor": "white",
             "minorgridcolor": "white",
             "startlinecolor": "#2a3f5f"
            },
            "baxis": {
             "endlinecolor": "#2a3f5f",
             "gridcolor": "white",
             "linecolor": "white",
             "minorgridcolor": "white",
             "startlinecolor": "#2a3f5f"
            },
            "type": "carpet"
           }
          ],
          "choropleth": [
           {
            "colorbar": {
             "outlinewidth": 0,
             "ticks": ""
            },
            "type": "choropleth"
           }
          ],
          "contour": [
           {
            "colorbar": {
             "outlinewidth": 0,
             "ticks": ""
            },
            "colorscale": [
             [
              0,
              "#0d0887"
             ],
             [
              0.1111111111111111,
              "#46039f"
             ],
             [
              0.2222222222222222,
              "#7201a8"
             ],
             [
              0.3333333333333333,
              "#9c179e"
             ],
             [
              0.4444444444444444,
              "#bd3786"
             ],
             [
              0.5555555555555556,
              "#d8576b"
             ],
             [
              0.6666666666666666,
              "#ed7953"
             ],
             [
              0.7777777777777778,
              "#fb9f3a"
             ],
             [
              0.8888888888888888,
              "#fdca26"
             ],
             [
              1,
              "#f0f921"
             ]
            ],
            "type": "contour"
           }
          ],
          "contourcarpet": [
           {
            "colorbar": {
             "outlinewidth": 0,
             "ticks": ""
            },
            "type": "contourcarpet"
           }
          ],
          "heatmap": [
           {
            "colorbar": {
             "outlinewidth": 0,
             "ticks": ""
            },
            "colorscale": [
             [
              0,
              "#0d0887"
             ],
             [
              0.1111111111111111,
              "#46039f"
             ],
             [
              0.2222222222222222,
              "#7201a8"
             ],
             [
              0.3333333333333333,
              "#9c179e"
             ],
             [
              0.4444444444444444,
              "#bd3786"
             ],
             [
              0.5555555555555556,
              "#d8576b"
             ],
             [
              0.6666666666666666,
              "#ed7953"
             ],
             [
              0.7777777777777778,
              "#fb9f3a"
             ],
             [
              0.8888888888888888,
              "#fdca26"
             ],
             [
              1,
              "#f0f921"
             ]
            ],
            "type": "heatmap"
           }
          ],
          "histogram": [
           {
            "marker": {
             "pattern": {
              "fillmode": "overlay",
              "size": 10,
              "solidity": 0.2
             }
            },
            "type": "histogram"
           }
          ],
          "histogram2d": [
           {
            "colorbar": {
             "outlinewidth": 0,
             "ticks": ""
            },
            "colorscale": [
             [
              0,
              "#0d0887"
             ],
             [
              0.1111111111111111,
              "#46039f"
             ],
             [
              0.2222222222222222,
              "#7201a8"
             ],
             [
              0.3333333333333333,
              "#9c179e"
             ],
             [
              0.4444444444444444,
              "#bd3786"
             ],
             [
              0.5555555555555556,
              "#d8576b"
             ],
             [
              0.6666666666666666,
              "#ed7953"
             ],
             [
              0.7777777777777778,
              "#fb9f3a"
             ],
             [
              0.8888888888888888,
              "#fdca26"
             ],
             [
              1,
              "#f0f921"
             ]
            ],
            "type": "histogram2d"
           }
          ],
          "histogram2dcontour": [
           {
            "colorbar": {
             "outlinewidth": 0,
             "ticks": ""
            },
            "colorscale": [
             [
              0,
              "#0d0887"
             ],
             [
              0.1111111111111111,
              "#46039f"
             ],
             [
              0.2222222222222222,
              "#7201a8"
             ],
             [
              0.3333333333333333,
              "#9c179e"
             ],
             [
              0.4444444444444444,
              "#bd3786"
             ],
             [
              0.5555555555555556,
              "#d8576b"
             ],
             [
              0.6666666666666666,
              "#ed7953"
             ],
             [
              0.7777777777777778,
              "#fb9f3a"
             ],
             [
              0.8888888888888888,
              "#fdca26"
             ],
             [
              1,
              "#f0f921"
             ]
            ],
            "type": "histogram2dcontour"
           }
          ],
          "mesh3d": [
           {
            "colorbar": {
             "outlinewidth": 0,
             "ticks": ""
            },
            "type": "mesh3d"
           }
          ],
          "parcoords": [
           {
            "line": {
             "colorbar": {
              "outlinewidth": 0,
              "ticks": ""
             }
            },
            "type": "parcoords"
           }
          ],
          "pie": [
           {
            "automargin": true,
            "type": "pie"
           }
          ],
          "scatter": [
           {
            "fillpattern": {
             "fillmode": "overlay",
             "size": 10,
             "solidity": 0.2
            },
            "type": "scatter"
           }
          ],
          "scatter3d": [
           {
            "line": {
             "colorbar": {
              "outlinewidth": 0,
              "ticks": ""
             }
            },
            "marker": {
             "colorbar": {
              "outlinewidth": 0,
              "ticks": ""
             }
            },
            "type": "scatter3d"
           }
          ],
          "scattercarpet": [
           {
            "marker": {
             "colorbar": {
              "outlinewidth": 0,
              "ticks": ""
             }
            },
            "type": "scattercarpet"
           }
          ],
          "scattergeo": [
           {
            "marker": {
             "colorbar": {
              "outlinewidth": 0,
              "ticks": ""
             }
            },
            "type": "scattergeo"
           }
          ],
          "scattergl": [
           {
            "marker": {
             "colorbar": {
              "outlinewidth": 0,
              "ticks": ""
             }
            },
            "type": "scattergl"
           }
          ],
          "scattermap": [
           {
            "marker": {
             "colorbar": {
              "outlinewidth": 0,
              "ticks": ""
             }
            },
            "type": "scattermap"
           }
          ],
          "scattermapbox": [
           {
            "marker": {
             "colorbar": {
              "outlinewidth": 0,
              "ticks": ""
             }
            },
            "type": "scattermapbox"
           }
          ],
          "scatterpolar": [
           {
            "marker": {
             "colorbar": {
              "outlinewidth": 0,
              "ticks": ""
             }
            },
            "type": "scatterpolar"
           }
          ],
          "scatterpolargl": [
           {
            "marker": {
             "colorbar": {
              "outlinewidth": 0,
              "ticks": ""
             }
            },
            "type": "scatterpolargl"
           }
          ],
          "scatterternary": [
           {
            "marker": {
             "colorbar": {
              "outlinewidth": 0,
              "ticks": ""
             }
            },
            "type": "scatterternary"
           }
          ],
          "surface": [
           {
            "colorbar": {
             "outlinewidth": 0,
             "ticks": ""
            },
            "colorscale": [
             [
              0,
              "#0d0887"
             ],
             [
              0.1111111111111111,
              "#46039f"
             ],
             [
              0.2222222222222222,
              "#7201a8"
             ],
             [
              0.3333333333333333,
              "#9c179e"
             ],
             [
              0.4444444444444444,
              "#bd3786"
             ],
             [
              0.5555555555555556,
              "#d8576b"
             ],
             [
              0.6666666666666666,
              "#ed7953"
             ],
             [
              0.7777777777777778,
              "#fb9f3a"
             ],
             [
              0.8888888888888888,
              "#fdca26"
             ],
             [
              1,
              "#f0f921"
             ]
            ],
            "type": "surface"
           }
          ],
          "table": [
           {
            "cells": {
             "fill": {
              "color": "#EBF0F8"
             },
             "line": {
              "color": "white"
             }
            },
            "header": {
             "fill": {
              "color": "#C8D4E3"
             },
             "line": {
              "color": "white"
             }
            },
            "type": "table"
           }
          ]
         },
         "layout": {
          "annotationdefaults": {
           "arrowcolor": "#2a3f5f",
           "arrowhead": 0,
           "arrowwidth": 1
          },
          "autotypenumbers": "strict",
          "coloraxis": {
           "colorbar": {
            "outlinewidth": 0,
            "ticks": ""
           }
          },
          "colorscale": {
           "diverging": [
            [
             0,
             "#8e0152"
            ],
            [
             0.1,
             "#c51b7d"
            ],
            [
             0.2,
             "#de77ae"
            ],
            [
             0.3,
             "#f1b6da"
            ],
            [
             0.4,
             "#fde0ef"
            ],
            [
             0.5,
             "#f7f7f7"
            ],
            [
             0.6,
             "#e6f5d0"
            ],
            [
             0.7,
             "#b8e186"
            ],
            [
             0.8,
             "#7fbc41"
            ],
            [
             0.9,
             "#4d9221"
            ],
            [
             1,
             "#276419"
            ]
           ],
           "sequential": [
            [
             0,
             "#0d0887"
            ],
            [
             0.1111111111111111,
             "#46039f"
            ],
            [
             0.2222222222222222,
             "#7201a8"
            ],
            [
             0.3333333333333333,
             "#9c179e"
            ],
            [
             0.4444444444444444,
             "#bd3786"
            ],
            [
             0.5555555555555556,
             "#d8576b"
            ],
            [
             0.6666666666666666,
             "#ed7953"
            ],
            [
             0.7777777777777778,
             "#fb9f3a"
            ],
            [
             0.8888888888888888,
             "#fdca26"
            ],
            [
             1,
             "#f0f921"
            ]
           ],
           "sequentialminus": [
            [
             0,
             "#0d0887"
            ],
            [
             0.1111111111111111,
             "#46039f"
            ],
            [
             0.2222222222222222,
             "#7201a8"
            ],
            [
             0.3333333333333333,
             "#9c179e"
            ],
            [
             0.4444444444444444,
             "#bd3786"
            ],
            [
             0.5555555555555556,
             "#d8576b"
            ],
            [
             0.6666666666666666,
             "#ed7953"
            ],
            [
             0.7777777777777778,
             "#fb9f3a"
            ],
            [
             0.8888888888888888,
             "#fdca26"
            ],
            [
             1,
             "#f0f921"
            ]
           ]
          },
          "colorway": [
           "#636efa",
           "#EF553B",
           "#00cc96",
           "#ab63fa",
           "#FFA15A",
           "#19d3f3",
           "#FF6692",
           "#B6E880",
           "#FF97FF",
           "#FECB52"
          ],
          "font": {
           "color": "#2a3f5f"
          },
          "geo": {
           "bgcolor": "white",
           "lakecolor": "white",
           "landcolor": "#E5ECF6",
           "showlakes": true,
           "showland": true,
           "subunitcolor": "white"
          },
          "hoverlabel": {
           "align": "left"
          },
          "hovermode": "closest",
          "mapbox": {
           "style": "light"
          },
          "paper_bgcolor": "white",
          "plot_bgcolor": "#E5ECF6",
          "polar": {
           "angularaxis": {
            "gridcolor": "white",
            "linecolor": "white",
            "ticks": ""
           },
           "bgcolor": "#E5ECF6",
           "radialaxis": {
            "gridcolor": "white",
            "linecolor": "white",
            "ticks": ""
           }
          },
          "scene": {
           "xaxis": {
            "backgroundcolor": "#E5ECF6",
            "gridcolor": "white",
            "gridwidth": 2,
            "linecolor": "white",
            "showbackground": true,
            "ticks": "",
            "zerolinecolor": "white"
           },
           "yaxis": {
            "backgroundcolor": "#E5ECF6",
            "gridcolor": "white",
            "gridwidth": 2,
            "linecolor": "white",
            "showbackground": true,
            "ticks": "",
            "zerolinecolor": "white"
           },
           "zaxis": {
            "backgroundcolor": "#E5ECF6",
            "gridcolor": "white",
            "gridwidth": 2,
            "linecolor": "white",
            "showbackground": true,
            "ticks": "",
            "zerolinecolor": "white"
           }
          },
          "shapedefaults": {
           "line": {
            "color": "#2a3f5f"
           }
          },
          "ternary": {
           "aaxis": {
            "gridcolor": "white",
            "linecolor": "white",
            "ticks": ""
           },
           "baxis": {
            "gridcolor": "white",
            "linecolor": "white",
            "ticks": ""
           },
           "bgcolor": "#E5ECF6",
           "caxis": {
            "gridcolor": "white",
            "linecolor": "white",
            "ticks": ""
           }
          },
          "title": {
           "x": 0.05
          },
          "xaxis": {
           "automargin": true,
           "gridcolor": "white",
           "linecolor": "white",
           "ticks": "",
           "title": {
            "standoff": 15
           },
           "zerolinecolor": "white",
           "zerolinewidth": 2
          },
          "yaxis": {
           "automargin": true,
           "gridcolor": "white",
           "linecolor": "white",
           "ticks": "",
           "title": {
            "standoff": 15
           },
           "zerolinecolor": "white",
           "zerolinewidth": 2
          }
         }
        }
       }
      }
     },
     "metadata": {},
     "output_type": "display_data"
    }
   ],
   "source": [
    "import plotly.graph_objects as go\n",
    "\n",
    "# Example massive sizes\n",
    "sizes = [1_000_000, 500_000, 250_000]\n",
    "\n",
    "# Compute a sensible sizeref: larger values = smaller markers\n",
    "# Typically: sizeref = 2 * max(size) / (desired_pixel_diameter ** 2)\n",
    "desired_pixel_diameter = 50  # how big you want the LARGEST marker to appear\n",
    "sizeref = 2. * max(sizes) / (desired_pixel_diameter ** 2)\n",
    "\n",
    "fig = go.Figure(data=go.Scatter3d(\n",
    "    x=[0, 1, 2],\n",
    "    y=[0, 1, 2],\n",
    "    z=[0, 1, 2],\n",
    "    mode='markers',\n",
    "    marker=dict(\n",
    "        size=sizes,\n",
    "        sizemode='area',\n",
    "        sizeref=sizeref,\n",
    "        sizemin=2,\n",
    "        color='cyan',\n",
    "        opacity=0.8\n",
    "    )\n",
    "))\n",
    "\n",
    "fig.show()\n"
   ]
  },
  {
   "cell_type": "code",
   "execution_count": 28,
   "id": "9eeceea3",
   "metadata": {},
   "outputs": [
    {
     "data": {
      "application/vnd.plotly.v1+json": {
       "config": {
        "plotlyServerURL": "https://plot.ly"
       },
       "data": [
        {
         "marker": {
          "color": [
           1,
           1000,
           10000,
           100000,
           1000000
          ],
          "colorscale": [
           [
            0,
            "#440154"
           ],
           [
            0.1111111111111111,
            "#482878"
           ],
           [
            0.2222222222222222,
            "#3e4989"
           ],
           [
            0.3333333333333333,
            "#31688e"
           ],
           [
            0.4444444444444444,
            "#26828e"
           ],
           [
            0.5555555555555556,
            "#1f9e89"
           ],
           [
            0.6666666666666666,
            "#35b779"
           ],
           [
            0.7777777777777778,
            "#6ece58"
           ],
           [
            0.8888888888888888,
            "#b5de2b"
           ],
           [
            1,
            "#fde725"
           ]
          ],
          "showscale": true,
          "size": [
           1,
           1000,
           10000,
           100000,
           1000000
          ],
          "sizemin": 5,
          "sizemode": "area",
          "sizeref": 20
         },
         "mode": "markers",
         "type": "scatter3d",
         "x": [
          0,
          1,
          2,
          3,
          4
         ],
         "y": [
          0,
          1,
          2,
          3,
          4
         ],
         "z": [
          0,
          1,
          2,
          3,
          4
         ]
        }
       ],
       "layout": {
        "template": {
         "data": {
          "bar": [
           {
            "error_x": {
             "color": "#2a3f5f"
            },
            "error_y": {
             "color": "#2a3f5f"
            },
            "marker": {
             "line": {
              "color": "#E5ECF6",
              "width": 0.5
             },
             "pattern": {
              "fillmode": "overlay",
              "size": 10,
              "solidity": 0.2
             }
            },
            "type": "bar"
           }
          ],
          "barpolar": [
           {
            "marker": {
             "line": {
              "color": "#E5ECF6",
              "width": 0.5
             },
             "pattern": {
              "fillmode": "overlay",
              "size": 10,
              "solidity": 0.2
             }
            },
            "type": "barpolar"
           }
          ],
          "carpet": [
           {
            "aaxis": {
             "endlinecolor": "#2a3f5f",
             "gridcolor": "white",
             "linecolor": "white",
             "minorgridcolor": "white",
             "startlinecolor": "#2a3f5f"
            },
            "baxis": {
             "endlinecolor": "#2a3f5f",
             "gridcolor": "white",
             "linecolor": "white",
             "minorgridcolor": "white",
             "startlinecolor": "#2a3f5f"
            },
            "type": "carpet"
           }
          ],
          "choropleth": [
           {
            "colorbar": {
             "outlinewidth": 0,
             "ticks": ""
            },
            "type": "choropleth"
           }
          ],
          "contour": [
           {
            "colorbar": {
             "outlinewidth": 0,
             "ticks": ""
            },
            "colorscale": [
             [
              0,
              "#0d0887"
             ],
             [
              0.1111111111111111,
              "#46039f"
             ],
             [
              0.2222222222222222,
              "#7201a8"
             ],
             [
              0.3333333333333333,
              "#9c179e"
             ],
             [
              0.4444444444444444,
              "#bd3786"
             ],
             [
              0.5555555555555556,
              "#d8576b"
             ],
             [
              0.6666666666666666,
              "#ed7953"
             ],
             [
              0.7777777777777778,
              "#fb9f3a"
             ],
             [
              0.8888888888888888,
              "#fdca26"
             ],
             [
              1,
              "#f0f921"
             ]
            ],
            "type": "contour"
           }
          ],
          "contourcarpet": [
           {
            "colorbar": {
             "outlinewidth": 0,
             "ticks": ""
            },
            "type": "contourcarpet"
           }
          ],
          "heatmap": [
           {
            "colorbar": {
             "outlinewidth": 0,
             "ticks": ""
            },
            "colorscale": [
             [
              0,
              "#0d0887"
             ],
             [
              0.1111111111111111,
              "#46039f"
             ],
             [
              0.2222222222222222,
              "#7201a8"
             ],
             [
              0.3333333333333333,
              "#9c179e"
             ],
             [
              0.4444444444444444,
              "#bd3786"
             ],
             [
              0.5555555555555556,
              "#d8576b"
             ],
             [
              0.6666666666666666,
              "#ed7953"
             ],
             [
              0.7777777777777778,
              "#fb9f3a"
             ],
             [
              0.8888888888888888,
              "#fdca26"
             ],
             [
              1,
              "#f0f921"
             ]
            ],
            "type": "heatmap"
           }
          ],
          "histogram": [
           {
            "marker": {
             "pattern": {
              "fillmode": "overlay",
              "size": 10,
              "solidity": 0.2
             }
            },
            "type": "histogram"
           }
          ],
          "histogram2d": [
           {
            "colorbar": {
             "outlinewidth": 0,
             "ticks": ""
            },
            "colorscale": [
             [
              0,
              "#0d0887"
             ],
             [
              0.1111111111111111,
              "#46039f"
             ],
             [
              0.2222222222222222,
              "#7201a8"
             ],
             [
              0.3333333333333333,
              "#9c179e"
             ],
             [
              0.4444444444444444,
              "#bd3786"
             ],
             [
              0.5555555555555556,
              "#d8576b"
             ],
             [
              0.6666666666666666,
              "#ed7953"
             ],
             [
              0.7777777777777778,
              "#fb9f3a"
             ],
             [
              0.8888888888888888,
              "#fdca26"
             ],
             [
              1,
              "#f0f921"
             ]
            ],
            "type": "histogram2d"
           }
          ],
          "histogram2dcontour": [
           {
            "colorbar": {
             "outlinewidth": 0,
             "ticks": ""
            },
            "colorscale": [
             [
              0,
              "#0d0887"
             ],
             [
              0.1111111111111111,
              "#46039f"
             ],
             [
              0.2222222222222222,
              "#7201a8"
             ],
             [
              0.3333333333333333,
              "#9c179e"
             ],
             [
              0.4444444444444444,
              "#bd3786"
             ],
             [
              0.5555555555555556,
              "#d8576b"
             ],
             [
              0.6666666666666666,
              "#ed7953"
             ],
             [
              0.7777777777777778,
              "#fb9f3a"
             ],
             [
              0.8888888888888888,
              "#fdca26"
             ],
             [
              1,
              "#f0f921"
             ]
            ],
            "type": "histogram2dcontour"
           }
          ],
          "mesh3d": [
           {
            "colorbar": {
             "outlinewidth": 0,
             "ticks": ""
            },
            "type": "mesh3d"
           }
          ],
          "parcoords": [
           {
            "line": {
             "colorbar": {
              "outlinewidth": 0,
              "ticks": ""
             }
            },
            "type": "parcoords"
           }
          ],
          "pie": [
           {
            "automargin": true,
            "type": "pie"
           }
          ],
          "scatter": [
           {
            "fillpattern": {
             "fillmode": "overlay",
             "size": 10,
             "solidity": 0.2
            },
            "type": "scatter"
           }
          ],
          "scatter3d": [
           {
            "line": {
             "colorbar": {
              "outlinewidth": 0,
              "ticks": ""
             }
            },
            "marker": {
             "colorbar": {
              "outlinewidth": 0,
              "ticks": ""
             }
            },
            "type": "scatter3d"
           }
          ],
          "scattercarpet": [
           {
            "marker": {
             "colorbar": {
              "outlinewidth": 0,
              "ticks": ""
             }
            },
            "type": "scattercarpet"
           }
          ],
          "scattergeo": [
           {
            "marker": {
             "colorbar": {
              "outlinewidth": 0,
              "ticks": ""
             }
            },
            "type": "scattergeo"
           }
          ],
          "scattergl": [
           {
            "marker": {
             "colorbar": {
              "outlinewidth": 0,
              "ticks": ""
             }
            },
            "type": "scattergl"
           }
          ],
          "scattermap": [
           {
            "marker": {
             "colorbar": {
              "outlinewidth": 0,
              "ticks": ""
             }
            },
            "type": "scattermap"
           }
          ],
          "scattermapbox": [
           {
            "marker": {
             "colorbar": {
              "outlinewidth": 0,
              "ticks": ""
             }
            },
            "type": "scattermapbox"
           }
          ],
          "scatterpolar": [
           {
            "marker": {
             "colorbar": {
              "outlinewidth": 0,
              "ticks": ""
             }
            },
            "type": "scatterpolar"
           }
          ],
          "scatterpolargl": [
           {
            "marker": {
             "colorbar": {
              "outlinewidth": 0,
              "ticks": ""
             }
            },
            "type": "scatterpolargl"
           }
          ],
          "scatterternary": [
           {
            "marker": {
             "colorbar": {
              "outlinewidth": 0,
              "ticks": ""
             }
            },
            "type": "scatterternary"
           }
          ],
          "surface": [
           {
            "colorbar": {
             "outlinewidth": 0,
             "ticks": ""
            },
            "colorscale": [
             [
              0,
              "#0d0887"
             ],
             [
              0.1111111111111111,
              "#46039f"
             ],
             [
              0.2222222222222222,
              "#7201a8"
             ],
             [
              0.3333333333333333,
              "#9c179e"
             ],
             [
              0.4444444444444444,
              "#bd3786"
             ],
             [
              0.5555555555555556,
              "#d8576b"
             ],
             [
              0.6666666666666666,
              "#ed7953"
             ],
             [
              0.7777777777777778,
              "#fb9f3a"
             ],
             [
              0.8888888888888888,
              "#fdca26"
             ],
             [
              1,
              "#f0f921"
             ]
            ],
            "type": "surface"
           }
          ],
          "table": [
           {
            "cells": {
             "fill": {
              "color": "#EBF0F8"
             },
             "line": {
              "color": "white"
             }
            },
            "header": {
             "fill": {
              "color": "#C8D4E3"
             },
             "line": {
              "color": "white"
             }
            },
            "type": "table"
           }
          ]
         },
         "layout": {
          "annotationdefaults": {
           "arrowcolor": "#2a3f5f",
           "arrowhead": 0,
           "arrowwidth": 1
          },
          "autotypenumbers": "strict",
          "coloraxis": {
           "colorbar": {
            "outlinewidth": 0,
            "ticks": ""
           }
          },
          "colorscale": {
           "diverging": [
            [
             0,
             "#8e0152"
            ],
            [
             0.1,
             "#c51b7d"
            ],
            [
             0.2,
             "#de77ae"
            ],
            [
             0.3,
             "#f1b6da"
            ],
            [
             0.4,
             "#fde0ef"
            ],
            [
             0.5,
             "#f7f7f7"
            ],
            [
             0.6,
             "#e6f5d0"
            ],
            [
             0.7,
             "#b8e186"
            ],
            [
             0.8,
             "#7fbc41"
            ],
            [
             0.9,
             "#4d9221"
            ],
            [
             1,
             "#276419"
            ]
           ],
           "sequential": [
            [
             0,
             "#0d0887"
            ],
            [
             0.1111111111111111,
             "#46039f"
            ],
            [
             0.2222222222222222,
             "#7201a8"
            ],
            [
             0.3333333333333333,
             "#9c179e"
            ],
            [
             0.4444444444444444,
             "#bd3786"
            ],
            [
             0.5555555555555556,
             "#d8576b"
            ],
            [
             0.6666666666666666,
             "#ed7953"
            ],
            [
             0.7777777777777778,
             "#fb9f3a"
            ],
            [
             0.8888888888888888,
             "#fdca26"
            ],
            [
             1,
             "#f0f921"
            ]
           ],
           "sequentialminus": [
            [
             0,
             "#0d0887"
            ],
            [
             0.1111111111111111,
             "#46039f"
            ],
            [
             0.2222222222222222,
             "#7201a8"
            ],
            [
             0.3333333333333333,
             "#9c179e"
            ],
            [
             0.4444444444444444,
             "#bd3786"
            ],
            [
             0.5555555555555556,
             "#d8576b"
            ],
            [
             0.6666666666666666,
             "#ed7953"
            ],
            [
             0.7777777777777778,
             "#fb9f3a"
            ],
            [
             0.8888888888888888,
             "#fdca26"
            ],
            [
             1,
             "#f0f921"
            ]
           ]
          },
          "colorway": [
           "#636efa",
           "#EF553B",
           "#00cc96",
           "#ab63fa",
           "#FFA15A",
           "#19d3f3",
           "#FF6692",
           "#B6E880",
           "#FF97FF",
           "#FECB52"
          ],
          "font": {
           "color": "#2a3f5f"
          },
          "geo": {
           "bgcolor": "white",
           "lakecolor": "white",
           "landcolor": "#E5ECF6",
           "showlakes": true,
           "showland": true,
           "subunitcolor": "white"
          },
          "hoverlabel": {
           "align": "left"
          },
          "hovermode": "closest",
          "mapbox": {
           "style": "light"
          },
          "paper_bgcolor": "white",
          "plot_bgcolor": "#E5ECF6",
          "polar": {
           "angularaxis": {
            "gridcolor": "white",
            "linecolor": "white",
            "ticks": ""
           },
           "bgcolor": "#E5ECF6",
           "radialaxis": {
            "gridcolor": "white",
            "linecolor": "white",
            "ticks": ""
           }
          },
          "scene": {
           "xaxis": {
            "backgroundcolor": "#E5ECF6",
            "gridcolor": "white",
            "gridwidth": 2,
            "linecolor": "white",
            "showbackground": true,
            "ticks": "",
            "zerolinecolor": "white"
           },
           "yaxis": {
            "backgroundcolor": "#E5ECF6",
            "gridcolor": "white",
            "gridwidth": 2,
            "linecolor": "white",
            "showbackground": true,
            "ticks": "",
            "zerolinecolor": "white"
           },
           "zaxis": {
            "backgroundcolor": "#E5ECF6",
            "gridcolor": "white",
            "gridwidth": 2,
            "linecolor": "white",
            "showbackground": true,
            "ticks": "",
            "zerolinecolor": "white"
           }
          },
          "shapedefaults": {
           "line": {
            "color": "#2a3f5f"
           }
          },
          "ternary": {
           "aaxis": {
            "gridcolor": "white",
            "linecolor": "white",
            "ticks": ""
           },
           "baxis": {
            "gridcolor": "white",
            "linecolor": "white",
            "ticks": ""
           },
           "bgcolor": "#E5ECF6",
           "caxis": {
            "gridcolor": "white",
            "linecolor": "white",
            "ticks": ""
           }
          },
          "title": {
           "x": 0.05
          },
          "xaxis": {
           "automargin": true,
           "gridcolor": "white",
           "linecolor": "white",
           "ticks": "",
           "title": {
            "standoff": 15
           },
           "zerolinecolor": "white",
           "zerolinewidth": 2
          },
          "yaxis": {
           "automargin": true,
           "gridcolor": "white",
           "linecolor": "white",
           "ticks": "",
           "title": {
            "standoff": 15
           },
           "zerolinecolor": "white",
           "zerolinewidth": 2
          }
         }
        }
       }
      }
     },
     "metadata": {},
     "output_type": "display_data"
    }
   ],
   "source": [
    "import plotly.graph_objects as go\n",
    "\n",
    "sizes = [1, 1000, 10_000, 100_000, 1_000_000]  # meteoroid to mega-star scale\n",
    "max_display_diameter = 500  # biggest marker should appear ~50px wide\n",
    "\n",
    "sizeref = 5. * max(sizes) / (max_display_diameter ** 2)\n",
    "\n",
    "fig = go.Figure(data=go.Scatter3d(\n",
    "    x=[0, 1, 2, 3, 4],\n",
    "    y=[0, 1, 2, 3, 4],\n",
    "    z=[0, 1, 2, 3, 4],\n",
    "    mode='markers',\n",
    "    marker=dict(\n",
    "        size=sizes,\n",
    "        sizemode='area',\n",
    "        sizeref=sizeref,\n",
    "        sizemin=5,  #ukuran terkecil akan ditampilkan dengan ukuran sizemin\n",
    "        color=sizes,\n",
    "        colorscale='Viridis',\n",
    "        showscale=True\n",
    "    )\n",
    "))\n",
    "\n",
    "fig.show()"
   ]
  },
  {
   "cell_type": "markdown",
   "id": "9f39cde2",
   "metadata": {},
   "source": [
    "# Scatterplot Scales"
   ]
  },
  {
   "cell_type": "code",
   "execution_count": 48,
   "id": "df5f6207",
   "metadata": {},
   "outputs": [
    {
     "data": {
      "text/html": [
       "<div>\n",
       "<style scoped>\n",
       "    .dataframe tbody tr th:only-of-type {\n",
       "        vertical-align: middle;\n",
       "    }\n",
       "\n",
       "    .dataframe tbody tr th {\n",
       "        vertical-align: top;\n",
       "    }\n",
       "\n",
       "    .dataframe thead th {\n",
       "        text-align: right;\n",
       "    }\n",
       "</style>\n",
       "<table border=\"1\" class=\"dataframe\">\n",
       "  <thead>\n",
       "    <tr style=\"text-align: right;\">\n",
       "      <th></th>\n",
       "      <th>name</th>\n",
       "      <th>x</th>\n",
       "      <th>y</th>\n",
       "      <th>z</th>\n",
       "      <th>color</th>\n",
       "      <th>temp</th>\n",
       "      <th>size</th>\n",
       "      <th>desc</th>\n",
       "    </tr>\n",
       "  </thead>\n",
       "  <tbody>\n",
       "    <tr>\n",
       "      <th>0</th>\n",
       "      <td>Cold</td>\n",
       "      <td>5</td>\n",
       "      <td>5</td>\n",
       "      <td>0</td>\n",
       "      <td>NaN</td>\n",
       "      <td>-100.0</td>\n",
       "      <td>100</td>\n",
       "      <td>NaN</td>\n",
       "    </tr>\n",
       "    <tr>\n",
       "      <th>1</th>\n",
       "      <td>NaN</td>\n",
       "      <td>10</td>\n",
       "      <td>5</td>\n",
       "      <td>0</td>\n",
       "      <td>NaN</td>\n",
       "      <td>-90.0</td>\n",
       "      <td>100</td>\n",
       "      <td>NaN</td>\n",
       "    </tr>\n",
       "    <tr>\n",
       "      <th>2</th>\n",
       "      <td>NaN</td>\n",
       "      <td>15</td>\n",
       "      <td>5</td>\n",
       "      <td>0</td>\n",
       "      <td>NaN</td>\n",
       "      <td>-80.0</td>\n",
       "      <td>100</td>\n",
       "      <td>NaN</td>\n",
       "    </tr>\n",
       "    <tr>\n",
       "      <th>3</th>\n",
       "      <td>NaN</td>\n",
       "      <td>20</td>\n",
       "      <td>5</td>\n",
       "      <td>0</td>\n",
       "      <td>NaN</td>\n",
       "      <td>-70.0</td>\n",
       "      <td>100</td>\n",
       "      <td>NaN</td>\n",
       "    </tr>\n",
       "    <tr>\n",
       "      <th>4</th>\n",
       "      <td>NaN</td>\n",
       "      <td>25</td>\n",
       "      <td>5</td>\n",
       "      <td>0</td>\n",
       "      <td>NaN</td>\n",
       "      <td>-60.0</td>\n",
       "      <td>100</td>\n",
       "      <td>NaN</td>\n",
       "    </tr>\n",
       "    <tr>\n",
       "      <th>...</th>\n",
       "      <td>...</td>\n",
       "      <td>...</td>\n",
       "      <td>...</td>\n",
       "      <td>...</td>\n",
       "      <td>...</td>\n",
       "      <td>...</td>\n",
       "      <td>...</td>\n",
       "      <td>...</td>\n",
       "    </tr>\n",
       "    <tr>\n",
       "      <th>201</th>\n",
       "      <td>wheat</td>\n",
       "      <td>-5</td>\n",
       "      <td>-5</td>\n",
       "      <td>291</td>\n",
       "      <td>wheat</td>\n",
       "      <td>NaN</td>\n",
       "      <td>100</td>\n",
       "      <td>NaN</td>\n",
       "    </tr>\n",
       "    <tr>\n",
       "      <th>202</th>\n",
       "      <td>white</td>\n",
       "      <td>-5</td>\n",
       "      <td>-5</td>\n",
       "      <td>293</td>\n",
       "      <td>white</td>\n",
       "      <td>NaN</td>\n",
       "      <td>100</td>\n",
       "      <td>NaN</td>\n",
       "    </tr>\n",
       "    <tr>\n",
       "      <th>203</th>\n",
       "      <td>whitesmoke</td>\n",
       "      <td>-5</td>\n",
       "      <td>-5</td>\n",
       "      <td>295</td>\n",
       "      <td>whitesmoke</td>\n",
       "      <td>NaN</td>\n",
       "      <td>100</td>\n",
       "      <td>NaN</td>\n",
       "    </tr>\n",
       "    <tr>\n",
       "      <th>204</th>\n",
       "      <td>yellow</td>\n",
       "      <td>-5</td>\n",
       "      <td>-5</td>\n",
       "      <td>297</td>\n",
       "      <td>yellow</td>\n",
       "      <td>NaN</td>\n",
       "      <td>100</td>\n",
       "      <td>NaN</td>\n",
       "    </tr>\n",
       "    <tr>\n",
       "      <th>205</th>\n",
       "      <td>yellowgreen</td>\n",
       "      <td>-5</td>\n",
       "      <td>-5</td>\n",
       "      <td>299</td>\n",
       "      <td>yellowgreen</td>\n",
       "      <td>NaN</td>\n",
       "      <td>100</td>\n",
       "      <td>NaN</td>\n",
       "    </tr>\n",
       "  </tbody>\n",
       "</table>\n",
       "<p>206 rows × 8 columns</p>\n",
       "</div>"
      ],
      "text/plain": [
       "            name   x  y    z        color   temp  size desc\n",
       "0           Cold   5  5    0          NaN -100.0   100  NaN\n",
       "1            NaN  10  5    0          NaN  -90.0   100  NaN\n",
       "2            NaN  15  5    0          NaN  -80.0   100  NaN\n",
       "3            NaN  20  5    0          NaN  -70.0   100  NaN\n",
       "4            NaN  25  5    0          NaN  -60.0   100  NaN\n",
       "..           ...  .. ..  ...          ...    ...   ...  ...\n",
       "201        wheat  -5 -5  291        wheat    NaN   100  NaN\n",
       "202        white  -5 -5  293        white    NaN   100  NaN\n",
       "203   whitesmoke  -5 -5  295   whitesmoke    NaN   100  NaN\n",
       "204       yellow  -5 -5  297       yellow    NaN   100  NaN\n",
       "205  yellowgreen  -5 -5  299  yellowgreen    NaN   100  NaN\n",
       "\n",
       "[206 rows x 8 columns]"
      ]
     },
     "metadata": {},
     "output_type": "display_data"
    }
   ],
   "source": [
    "df2 = pd.read_excel('Astrocosmos.xlsx', sheet_name='Planet Scale Example')\n",
    "display(df2)"
   ]
  },
  {
   "cell_type": "code",
   "execution_count": 49,
   "id": "a7e464c4",
   "metadata": {},
   "outputs": [],
   "source": [
    "df2[['name', 'x', 'y', 'z', 'size', 'temp', 'desc']] = df2[['name', 'x', 'y', 'z', 'size', 'temp', 'desc']].fillna('N/A')\n",
    "\n",
    "df2['parameter'] = df2['color'].where(~df2['color'].isna(), df2['temp'])\n",
    "\n",
    "df2['text'] = (\n",
    "    \"Name: \" + df2['name'] +\n",
    "    \"<br>Position: \" + df2['x'].astype(str) + \",\" + df2['y'].astype(str) + \",\" + df2['z'].astype(str) +\n",
    "    \"<br>Size: \" + df2['size'].astype(str) +\n",
    "    \"<br>Temp: \" + df2['temp'].astype(str) +\n",
    "    \"<br>Color: \" + df2['color'].astype(str) +\n",
    "    \"<br>Desc: \" + df2['desc']\n",
    ")"
   ]
  },
  {
   "cell_type": "code",
   "execution_count": 53,
   "id": "e1313a80",
   "metadata": {},
   "outputs": [],
   "source": [
    "max_display_size = 500 # max pixel size that applied to the biggest size\n",
    "\n",
    "sizeref = 2. * 1_000_000 / (max_display_size ** 2) #max(df2['size'])"
   ]
  },
  {
   "cell_type": "code",
   "execution_count": 54,
   "id": "d8a07a08",
   "metadata": {},
   "outputs": [
    {
     "name": "stdout",
     "output_type": "stream",
     "text": [
      "Open the HTML file for better view\n"
     ]
    },
    {
     "data": {
      "application/vnd.plotly.v1+json": {
       "config": {
        "plotlyServerURL": "https://plot.ly"
       },
       "data": [
        {
         "hovertemplate": "%{text}<extra></extra>",
         "marker": {
          "cmax": 100,
          "cmin": -100,
          "color": [
           -100,
           -90,
           -80,
           -70,
           -60,
           -50,
           -40,
           -30,
           -20,
           -10,
           0,
           10,
           20,
           30,
           40,
           50,
           60,
           70,
           80,
           90,
           100,
           0,
           0,
           0,
           0,
           0,
           0,
           0,
           0,
           0,
           0,
           0,
           0,
           0,
           0,
           0,
           0,
           0,
           0,
           0,
           0,
           0,
           0,
           0,
           0,
           0,
           0,
           0,
           0,
           0,
           0,
           0,
           0,
           0,
           0,
           0,
           0,
           0,
           "aliceblue",
           "antiquewhite",
           "aqua",
           "aquamarine",
           "azure",
           "beige",
           "bisque",
           "black",
           "blanchedalmond",
           "blue",
           "blueviolet",
           "brown",
           "burlywood",
           "cadetblue",
           "chartreuse",
           "chocolate",
           "coral",
           "cornflowerblue",
           "cornsilk",
           "crimson",
           "cyan",
           "darkblue",
           "darkcyan",
           "darkgoldenrod",
           "darkgray",
           "darkgrey",
           "darkgreen",
           "darkkhaki",
           "darkmagenta",
           "darkolivegreen",
           "darkorange",
           "darkorchid",
           "darkred",
           "darksalmon",
           "darkseagreen",
           "darkslateblue",
           "darkslategray",
           "darkslategrey",
           "darkturquoise",
           "darkviolet",
           "deeppink",
           "deepskyblue",
           "dimgray",
           "dimgrey",
           "dodgerblue",
           "firebrick",
           "floralwhite",
           "forestgreen",
           "fuchsia",
           "gainsboro",
           "ghostwhite",
           "gold",
           "goldenrod",
           "gray",
           "grey",
           "green",
           "greenyellow",
           "honeydew",
           "hotpink",
           "indianred",
           "indigo",
           "ivory",
           "khaki",
           "lavender",
           "lavenderblush",
           "lawngreen",
           "lemonchiffon",
           "lightblue",
           "lightcoral",
           "lightcyan",
           "lightgoldenrodyellow",
           "lightgray",
           "lightgrey",
           "lightgreen",
           "lightpink",
           "lightsalmon",
           "lightseagreen",
           "lightskyblue",
           "lightslategray",
           "lightslategrey",
           "lightsteelblue",
           "lightyellow",
           "lime",
           "limegreen",
           "linen",
           "magenta",
           "maroon",
           "mediumaquamarine",
           "mediumblue",
           "mediumorchid",
           "mediumpurple",
           "mediumseagreen",
           "mediumslateblue",
           "mediumspringgreen",
           "mediumturquoise",
           "mediumvioletred",
           "midnightblue",
           "mintcream",
           "mistyrose",
           "moccasin",
           "navajowhite",
           "navy",
           "oldlace",
           "olive",
           "olivedrab",
           "orange",
           "orangered",
           "orchid",
           "palegoldenrod",
           "palegreen",
           "paleturquoise",
           "palevioletred",
           "papayawhip",
           "peachpuff",
           "peru",
           "pink",
           "plum",
           "powderblue",
           "purple",
           "red",
           "rosybrown",
           "royalblue",
           "rebeccapurple",
           "saddlebrown",
           "salmon",
           "sandybrown",
           "seagreen",
           "seashell",
           "sienna",
           "silver",
           "skyblue",
           "slateblue",
           "slategray",
           "slategrey",
           "snow",
           "springgreen",
           "steelblue",
           "tan",
           "teal",
           "thistle",
           "tomato",
           "turquoise",
           "violet",
           "wheat",
           "white",
           "whitesmoke",
           "yellow",
           "yellowgreen"
          ],
          "colorbar": {
           "orientation": "h",
           "thickness": 15,
           "tickcolor": "black",
           "tickfont": {
            "color": "black"
           },
           "title": {
            "font": {
             "color": "black"
            },
            "text": "Astronomical Object Temp Scale"
           },
           "x": 0.5,
           "xanchor": "center",
           "y": -0.2
          },
          "colorscale": [
           [
            0,
            "rgb(3, 35, 51)"
           ],
           [
            0.09090909090909091,
            "rgb(13, 48, 100)"
           ],
           [
            0.18181818181818182,
            "rgb(53, 50, 155)"
           ],
           [
            0.2727272727272727,
            "rgb(93, 62, 153)"
           ],
           [
            0.36363636363636365,
            "rgb(126, 77, 143)"
           ],
           [
            0.45454545454545453,
            "rgb(158, 89, 135)"
           ],
           [
            0.5454545454545454,
            "rgb(193, 100, 121)"
           ],
           [
            0.6363636363636364,
            "rgb(225, 113, 97)"
           ],
           [
            0.7272727272727273,
            "rgb(246, 139, 69)"
           ],
           [
            0.8181818181818182,
            "rgb(251, 173, 60)"
           ],
           [
            0.9090909090909091,
            "rgb(246, 211, 70)"
           ],
           [
            1,
            "rgb(231, 250, 90)"
           ]
          ],
          "opacity": 0.8,
          "size": {
           "bdata": "ZAAAAGQAAABkAAAAZAAAAGQAAABkAAAAZAAAAGQAAABkAAAAZAAAAGQAAABkAAAAZAAAAGQAAABkAAAAZAAAAGQAAABkAAAAZAAAAGQAAABkAAAAAQAAAAUAAAAKAAAAFAAAAB4AAAAoAAAAMgAAAFAAAABkAAAAlgAAAMgAAAAsAQAAkAEAAPQBAAAgAwAA6AMAANwFAADQBwAAuAsAAKAPAACIEwAAQB8AABAnAACYOgAAIE4AADB1AABAnAAAUMMAAIA4AQCghgEA8EkCAEANAwDgkwQAgBoGACChBwAANQwAQEIPAGQAAABkAAAAZAAAAGQAAABkAAAAZAAAAGQAAABkAAAAZAAAAGQAAABkAAAAZAAAAGQAAABkAAAAZAAAAGQAAABkAAAAZAAAAGQAAABkAAAAZAAAAGQAAABkAAAAZAAAAGQAAABkAAAAZAAAAGQAAABkAAAAZAAAAGQAAABkAAAAZAAAAGQAAABkAAAAZAAAAGQAAABkAAAAZAAAAGQAAABkAAAAZAAAAGQAAABkAAAAZAAAAGQAAABkAAAAZAAAAGQAAABkAAAAZAAAAGQAAABkAAAAZAAAAGQAAABkAAAAZAAAAGQAAABkAAAAZAAAAGQAAABkAAAAZAAAAGQAAABkAAAAZAAAAGQAAABkAAAAZAAAAGQAAABkAAAAZAAAAGQAAABkAAAAZAAAAGQAAABkAAAAZAAAAGQAAABkAAAAZAAAAGQAAABkAAAAZAAAAGQAAABkAAAAZAAAAGQAAABkAAAAZAAAAGQAAABkAAAAZAAAAGQAAABkAAAAZAAAAGQAAABkAAAAZAAAAGQAAABkAAAAZAAAAGQAAABkAAAAZAAAAGQAAABkAAAAZAAAAGQAAABkAAAAZAAAAGQAAABkAAAAZAAAAGQAAABkAAAAZAAAAGQAAABkAAAAZAAAAGQAAABkAAAAZAAAAGQAAABkAAAAZAAAAGQAAABkAAAAZAAAAGQAAABkAAAAZAAAAGQAAABkAAAAZAAAAGQAAABkAAAAZAAAAGQAAABkAAAAZAAAAGQAAABkAAAAZAAAAGQAAABkAAAAZAAAAGQAAAA=",
           "dtype": "i4"
          },
          "sizemin": 3,
          "sizemode": "area",
          "sizeref": 8
         },
         "mode": "markers",
         "name": "Data",
         "text": [
          "Name: Cold<br>Position: 5,5,0<br>Size: 100<br>Temp: -100.0<br>Color: nan<br>Desc: N/A",
          "Name: N/A<br>Position: 10,5,0<br>Size: 100<br>Temp: -90.0<br>Color: nan<br>Desc: N/A",
          "Name: N/A<br>Position: 15,5,0<br>Size: 100<br>Temp: -80.0<br>Color: nan<br>Desc: N/A",
          "Name: N/A<br>Position: 20,5,0<br>Size: 100<br>Temp: -70.0<br>Color: nan<br>Desc: N/A",
          "Name: N/A<br>Position: 25,5,0<br>Size: 100<br>Temp: -60.0<br>Color: nan<br>Desc: N/A",
          "Name: N/A<br>Position: 30,5,0<br>Size: 100<br>Temp: -50.0<br>Color: nan<br>Desc: N/A",
          "Name: N/A<br>Position: 35,5,0<br>Size: 100<br>Temp: -40.0<br>Color: nan<br>Desc: N/A",
          "Name: N/A<br>Position: 40,5,0<br>Size: 100<br>Temp: -30.0<br>Color: nan<br>Desc: N/A",
          "Name: N/A<br>Position: 45,5,0<br>Size: 100<br>Temp: -20.0<br>Color: nan<br>Desc: N/A",
          "Name: N/A<br>Position: 50,5,0<br>Size: 100<br>Temp: -10.0<br>Color: nan<br>Desc: N/A",
          "Name: N/A<br>Position: 55,5,0<br>Size: 100<br>Temp: 0.0<br>Color: nan<br>Desc: N/A",
          "Name: N/A<br>Position: 60,5,0<br>Size: 100<br>Temp: 10.0<br>Color: nan<br>Desc: N/A",
          "Name: N/A<br>Position: 65,5,0<br>Size: 100<br>Temp: 20.0<br>Color: nan<br>Desc: N/A",
          "Name: N/A<br>Position: 70,5,0<br>Size: 100<br>Temp: 30.0<br>Color: nan<br>Desc: N/A",
          "Name: N/A<br>Position: 75,5,0<br>Size: 100<br>Temp: 40.0<br>Color: nan<br>Desc: N/A",
          "Name: N/A<br>Position: 80,5,0<br>Size: 100<br>Temp: 50.0<br>Color: nan<br>Desc: N/A",
          "Name: N/A<br>Position: 85,5,0<br>Size: 100<br>Temp: 60.0<br>Color: nan<br>Desc: N/A",
          "Name: N/A<br>Position: 90,5,0<br>Size: 100<br>Temp: 70.0<br>Color: nan<br>Desc: N/A",
          "Name: N/A<br>Position: 95,5,0<br>Size: 100<br>Temp: 80.0<br>Color: nan<br>Desc: N/A",
          "Name: N/A<br>Position: 100,5,0<br>Size: 100<br>Temp: 90.0<br>Color: nan<br>Desc: N/A",
          "Name: Hot<br>Position: 105,5,0<br>Size: 100<br>Temp: 100.0<br>Color: nan<br>Desc: N/A",
          "Name: Tiny<br>Position: -5,5,0<br>Size: 1<br>Temp: 0.0<br>Color: nan<br>Desc: Asteroid",
          "Name: N/A<br>Position: -5,6,0<br>Size: 5<br>Temp: 0.0<br>Color: nan<br>Desc: N/A",
          "Name: N/A<br>Position: -5,8,0<br>Size: 10<br>Temp: 0.0<br>Color: nan<br>Desc: N/A",
          "Name: N/A<br>Position: -5,11,0<br>Size: 20<br>Temp: 0.0<br>Color: nan<br>Desc: N/A",
          "Name: N/A<br>Position: -5,15,0<br>Size: 30<br>Temp: 0.0<br>Color: nan<br>Desc: N/A",
          "Name: N/A<br>Position: -5,20,0<br>Size: 40<br>Temp: 0.0<br>Color: nan<br>Desc: N/A",
          "Name: N/A<br>Position: -5,26,0<br>Size: 50<br>Temp: 0.0<br>Color: nan<br>Desc: N/A",
          "Name: N/A<br>Position: -5,33,0<br>Size: 80<br>Temp: 0.0<br>Color: nan<br>Desc: N/A",
          "Name: N/A<br>Position: -5,41,0<br>Size: 100<br>Temp: 0.0<br>Color: nan<br>Desc: N/A",
          "Name: N/A<br>Position: -5,50,0<br>Size: 150<br>Temp: 0.0<br>Color: nan<br>Desc: N/A",
          "Name: N/A<br>Position: -5,60,0<br>Size: 200<br>Temp: 0.0<br>Color: nan<br>Desc: N/A",
          "Name: N/A<br>Position: -5,71,0<br>Size: 300<br>Temp: 0.0<br>Color: nan<br>Desc: N/A",
          "Name: N/A<br>Position: -5,83,0<br>Size: 400<br>Temp: 0.0<br>Color: nan<br>Desc: N/A",
          "Name: N/A<br>Position: -5,96,0<br>Size: 500<br>Temp: 0.0<br>Color: nan<br>Desc: N/A",
          "Name: N/A<br>Position: -5,110,0<br>Size: 800<br>Temp: 0.0<br>Color: nan<br>Desc: N/A",
          "Name: N/A<br>Position: -5,125,0<br>Size: 1000<br>Temp: 0.0<br>Color: nan<br>Desc: N/A",
          "Name: N/A<br>Position: -5,141,0<br>Size: 1500<br>Temp: 0.0<br>Color: nan<br>Desc: N/A",
          "Name: N/A<br>Position: -5,158,0<br>Size: 2000<br>Temp: 0.0<br>Color: nan<br>Desc: N/A",
          "Name: N/A<br>Position: -5,176,0<br>Size: 3000<br>Temp: 0.0<br>Color: nan<br>Desc: N/A",
          "Name: N/A<br>Position: -5,195,0<br>Size: 4000<br>Temp: 0.0<br>Color: nan<br>Desc: N/A",
          "Name: N/A<br>Position: -5,215,0<br>Size: 5000<br>Temp: 0.0<br>Color: nan<br>Desc: N/A",
          "Name: N/A<br>Position: -5,236,0<br>Size: 8000<br>Temp: 0.0<br>Color: nan<br>Desc: N/A",
          "Name: N/A<br>Position: -5,258,0<br>Size: 10000<br>Temp: 0.0<br>Color: nan<br>Desc: N/A",
          "Name: Big<br>Position: -5,281,0<br>Size: 15000<br>Temp: 0.0<br>Color: nan<br>Desc: N/A",
          "Name: N/A<br>Position: 19,281,0<br>Size: 20000<br>Temp: 0.0<br>Color: nan<br>Desc: N/A",
          "Name: N/A<br>Position: 44,281,0<br>Size: 30000<br>Temp: 0.0<br>Color: nan<br>Desc: N/A",
          "Name: N/A<br>Position: 70,281,0<br>Size: 40000<br>Temp: 0.0<br>Color: nan<br>Desc: N/A",
          "Name: N/A<br>Position: 97,281,0<br>Size: 50000<br>Temp: 0.0<br>Color: nan<br>Desc: N/A",
          "Name: N/A<br>Position: 125,281,0<br>Size: 80000<br>Temp: 0.0<br>Color: nan<br>Desc: N/A",
          "Name: N/A<br>Position: 154,281,0<br>Size: 100000<br>Temp: 0.0<br>Color: nan<br>Desc: N/A",
          "Name: N/A<br>Position: 184,281,0<br>Size: 150000<br>Temp: 0.0<br>Color: nan<br>Desc: N/A",
          "Name: N/A<br>Position: 215,281,0<br>Size: 200000<br>Temp: 0.0<br>Color: nan<br>Desc: N/A",
          "Name: N/A<br>Position: 247,281,0<br>Size: 300000<br>Temp: 0.0<br>Color: nan<br>Desc: N/A",
          "Name: N/A<br>Position: 280,281,0<br>Size: 400000<br>Temp: 0.0<br>Color: nan<br>Desc: N/A",
          "Name: N/A<br>Position: 280,216,0<br>Size: 500000<br>Temp: 0.0<br>Color: nan<br>Desc: N/A",
          "Name: N/A<br>Position: 280,152,0<br>Size: 800000<br>Temp: 0.0<br>Color: nan<br>Desc: N/A",
          "Name: N/A<br>Position: 280,89,0<br>Size: 1000000<br>Temp: 0.0<br>Color: nan<br>Desc: N/A",
          "Name: aliceblue<br>Position: -5,-5,5<br>Size: 100<br>Temp: 1.0<br>Color: aliceblue<br>Desc: N/A",
          "Name: antiquewhite<br>Position: -5,-5,7<br>Size: 100<br>Temp: 2.0<br>Color: antiquewhite<br>Desc: N/A",
          "Name: aqua<br>Position: -5,-5,9<br>Size: 100<br>Temp: 3.0<br>Color: aqua<br>Desc: N/A",
          "Name: aquamarine<br>Position: -5,-5,11<br>Size: 100<br>Temp: 4.0<br>Color: aquamarine<br>Desc: N/A",
          "Name: azure<br>Position: -5,-5,13<br>Size: 100<br>Temp: 5.0<br>Color: azure<br>Desc: N/A",
          "Name: beige<br>Position: -5,-5,15<br>Size: 100<br>Temp: N/A<br>Color: beige<br>Desc: N/A",
          "Name: bisque<br>Position: -5,-5,17<br>Size: 100<br>Temp: N/A<br>Color: bisque<br>Desc: N/A",
          "Name: black<br>Position: -5,-5,19<br>Size: 100<br>Temp: N/A<br>Color: black<br>Desc: N/A",
          "Name: blanchedalmond<br>Position: -5,-5,21<br>Size: 100<br>Temp: N/A<br>Color: blanchedalmond<br>Desc: N/A",
          "Name: blue<br>Position: -5,-5,23<br>Size: 100<br>Temp: N/A<br>Color: blue<br>Desc: N/A",
          "Name: blueviolet<br>Position: -5,-5,25<br>Size: 100<br>Temp: N/A<br>Color: blueviolet<br>Desc: N/A",
          "Name: brown<br>Position: -5,-5,27<br>Size: 100<br>Temp: N/A<br>Color: brown<br>Desc: N/A",
          "Name: burlywood<br>Position: -5,-5,29<br>Size: 100<br>Temp: N/A<br>Color: burlywood<br>Desc: N/A",
          "Name: cadetblue<br>Position: -5,-5,31<br>Size: 100<br>Temp: N/A<br>Color: cadetblue<br>Desc: N/A",
          "Name: chartreuse<br>Position: -5,-5,33<br>Size: 100<br>Temp: N/A<br>Color: chartreuse<br>Desc: N/A",
          "Name: chocolate<br>Position: -5,-5,35<br>Size: 100<br>Temp: N/A<br>Color: chocolate<br>Desc: N/A",
          "Name: coral<br>Position: -5,-5,37<br>Size: 100<br>Temp: N/A<br>Color: coral<br>Desc: N/A",
          "Name: cornflowerblue<br>Position: -5,-5,39<br>Size: 100<br>Temp: N/A<br>Color: cornflowerblue<br>Desc: N/A",
          "Name: cornsilk<br>Position: -5,-5,41<br>Size: 100<br>Temp: N/A<br>Color: cornsilk<br>Desc: N/A",
          "Name: crimson<br>Position: -5,-5,43<br>Size: 100<br>Temp: N/A<br>Color: crimson<br>Desc: N/A",
          "Name: cyan<br>Position: -5,-5,45<br>Size: 100<br>Temp: N/A<br>Color: cyan<br>Desc: N/A",
          "Name: darkblue<br>Position: -5,-5,47<br>Size: 100<br>Temp: N/A<br>Color: darkblue<br>Desc: N/A",
          "Name: darkcyan<br>Position: -5,-5,49<br>Size: 100<br>Temp: N/A<br>Color: darkcyan<br>Desc: N/A",
          "Name: darkgoldenrod<br>Position: -5,-5,51<br>Size: 100<br>Temp: N/A<br>Color: darkgoldenrod<br>Desc: N/A",
          "Name: darkgray<br>Position: -5,-5,53<br>Size: 100<br>Temp: N/A<br>Color: darkgray<br>Desc: N/A",
          "Name: darkgrey<br>Position: -5,-5,55<br>Size: 100<br>Temp: N/A<br>Color: darkgrey<br>Desc: N/A",
          "Name: darkgreen<br>Position: -5,-5,57<br>Size: 100<br>Temp: N/A<br>Color: darkgreen<br>Desc: N/A",
          "Name: darkkhaki<br>Position: -5,-5,59<br>Size: 100<br>Temp: N/A<br>Color: darkkhaki<br>Desc: N/A",
          "Name: darkmagenta<br>Position: -5,-5,61<br>Size: 100<br>Temp: N/A<br>Color: darkmagenta<br>Desc: N/A",
          "Name: darkolivegreen<br>Position: -5,-5,63<br>Size: 100<br>Temp: N/A<br>Color: darkolivegreen<br>Desc: N/A",
          "Name: darkorange<br>Position: -5,-5,65<br>Size: 100<br>Temp: N/A<br>Color: darkorange<br>Desc: N/A",
          "Name: darkorchid<br>Position: -5,-5,67<br>Size: 100<br>Temp: N/A<br>Color: darkorchid<br>Desc: N/A",
          "Name: darkred<br>Position: -5,-5,69<br>Size: 100<br>Temp: N/A<br>Color: darkred<br>Desc: N/A",
          "Name: darksalmon<br>Position: -5,-5,71<br>Size: 100<br>Temp: N/A<br>Color: darksalmon<br>Desc: N/A",
          "Name: darkseagreen<br>Position: -5,-5,73<br>Size: 100<br>Temp: N/A<br>Color: darkseagreen<br>Desc: N/A",
          "Name: darkslateblue<br>Position: -5,-5,75<br>Size: 100<br>Temp: N/A<br>Color: darkslateblue<br>Desc: N/A",
          "Name: darkslategray<br>Position: -5,-5,77<br>Size: 100<br>Temp: N/A<br>Color: darkslategray<br>Desc: N/A",
          "Name: darkslategrey<br>Position: -5,-5,79<br>Size: 100<br>Temp: N/A<br>Color: darkslategrey<br>Desc: N/A",
          "Name: darkturquoise<br>Position: -5,-5,81<br>Size: 100<br>Temp: N/A<br>Color: darkturquoise<br>Desc: N/A",
          "Name: darkviolet<br>Position: -5,-5,83<br>Size: 100<br>Temp: N/A<br>Color: darkviolet<br>Desc: N/A",
          "Name: deeppink<br>Position: -5,-5,85<br>Size: 100<br>Temp: N/A<br>Color: deeppink<br>Desc: N/A",
          "Name: deepskyblue<br>Position: -5,-5,87<br>Size: 100<br>Temp: N/A<br>Color: deepskyblue<br>Desc: N/A",
          "Name: dimgray<br>Position: -5,-5,89<br>Size: 100<br>Temp: N/A<br>Color: dimgray<br>Desc: N/A",
          "Name: dimgrey<br>Position: -5,-5,91<br>Size: 100<br>Temp: N/A<br>Color: dimgrey<br>Desc: N/A",
          "Name: dodgerblue<br>Position: -5,-5,93<br>Size: 100<br>Temp: N/A<br>Color: dodgerblue<br>Desc: N/A",
          "Name: firebrick<br>Position: -5,-5,95<br>Size: 100<br>Temp: N/A<br>Color: firebrick<br>Desc: N/A",
          "Name: floralwhite<br>Position: -5,-5,97<br>Size: 100<br>Temp: N/A<br>Color: floralwhite<br>Desc: N/A",
          "Name: forestgreen<br>Position: -5,-5,99<br>Size: 100<br>Temp: N/A<br>Color: forestgreen<br>Desc: N/A",
          "Name: fuchsia<br>Position: -5,-5,101<br>Size: 100<br>Temp: N/A<br>Color: fuchsia<br>Desc: N/A",
          "Name: gainsboro<br>Position: -5,-5,103<br>Size: 100<br>Temp: N/A<br>Color: gainsboro<br>Desc: N/A",
          "Name: ghostwhite<br>Position: -5,-5,105<br>Size: 100<br>Temp: N/A<br>Color: ghostwhite<br>Desc: N/A",
          "Name: gold<br>Position: -5,-5,107<br>Size: 100<br>Temp: N/A<br>Color: gold<br>Desc: N/A",
          "Name: goldenrod<br>Position: -5,-5,109<br>Size: 100<br>Temp: N/A<br>Color: goldenrod<br>Desc: N/A",
          "Name: gray<br>Position: -5,-5,111<br>Size: 100<br>Temp: N/A<br>Color: gray<br>Desc: N/A",
          "Name: grey<br>Position: -5,-5,113<br>Size: 100<br>Temp: N/A<br>Color: grey<br>Desc: N/A",
          "Name: green<br>Position: -5,-5,115<br>Size: 100<br>Temp: N/A<br>Color: green<br>Desc: N/A",
          "Name: greenyellow<br>Position: -5,-5,117<br>Size: 100<br>Temp: N/A<br>Color: greenyellow<br>Desc: N/A",
          "Name: honeydew<br>Position: -5,-5,119<br>Size: 100<br>Temp: N/A<br>Color: honeydew<br>Desc: N/A",
          "Name: hotpink<br>Position: -5,-5,121<br>Size: 100<br>Temp: N/A<br>Color: hotpink<br>Desc: N/A",
          "Name: indianred<br>Position: -5,-5,123<br>Size: 100<br>Temp: N/A<br>Color: indianred<br>Desc: N/A",
          "Name: indigo<br>Position: -5,-5,125<br>Size: 100<br>Temp: N/A<br>Color: indigo<br>Desc: N/A",
          "Name: ivory<br>Position: -5,-5,127<br>Size: 100<br>Temp: N/A<br>Color: ivory<br>Desc: N/A",
          "Name: khaki<br>Position: -5,-5,129<br>Size: 100<br>Temp: N/A<br>Color: khaki<br>Desc: N/A",
          "Name: lavender<br>Position: -5,-5,131<br>Size: 100<br>Temp: N/A<br>Color: lavender<br>Desc: N/A",
          "Name: lavenderblush<br>Position: -5,-5,133<br>Size: 100<br>Temp: N/A<br>Color: lavenderblush<br>Desc: N/A",
          "Name: lawngreen<br>Position: -5,-5,135<br>Size: 100<br>Temp: N/A<br>Color: lawngreen<br>Desc: N/A",
          "Name: lemonchiffon<br>Position: -5,-5,137<br>Size: 100<br>Temp: N/A<br>Color: lemonchiffon<br>Desc: N/A",
          "Name: lightblue<br>Position: -5,-5,139<br>Size: 100<br>Temp: N/A<br>Color: lightblue<br>Desc: N/A",
          "Name: lightcoral<br>Position: -5,-5,141<br>Size: 100<br>Temp: N/A<br>Color: lightcoral<br>Desc: N/A",
          "Name: lightcyan<br>Position: -5,-5,143<br>Size: 100<br>Temp: N/A<br>Color: lightcyan<br>Desc: N/A",
          "Name: lightgoldenrodyellow<br>Position: -5,-5,145<br>Size: 100<br>Temp: N/A<br>Color: lightgoldenrodyellow<br>Desc: N/A",
          "Name: lightgray<br>Position: -5,-5,147<br>Size: 100<br>Temp: N/A<br>Color: lightgray<br>Desc: N/A",
          "Name: lightgrey<br>Position: -5,-5,149<br>Size: 100<br>Temp: N/A<br>Color: lightgrey<br>Desc: N/A",
          "Name: lightgreen<br>Position: -5,-5,151<br>Size: 100<br>Temp: N/A<br>Color: lightgreen<br>Desc: N/A",
          "Name: lightpink<br>Position: -5,-5,153<br>Size: 100<br>Temp: N/A<br>Color: lightpink<br>Desc: N/A",
          "Name: lightsalmon<br>Position: -5,-5,155<br>Size: 100<br>Temp: N/A<br>Color: lightsalmon<br>Desc: N/A",
          "Name: lightseagreen<br>Position: -5,-5,157<br>Size: 100<br>Temp: N/A<br>Color: lightseagreen<br>Desc: N/A",
          "Name: lightskyblue<br>Position: -5,-5,159<br>Size: 100<br>Temp: N/A<br>Color: lightskyblue<br>Desc: N/A",
          "Name: lightslategray<br>Position: -5,-5,161<br>Size: 100<br>Temp: N/A<br>Color: lightslategray<br>Desc: N/A",
          "Name: lightslategrey<br>Position: -5,-5,163<br>Size: 100<br>Temp: N/A<br>Color: lightslategrey<br>Desc: N/A",
          "Name: lightsteelblue<br>Position: -5,-5,165<br>Size: 100<br>Temp: N/A<br>Color: lightsteelblue<br>Desc: N/A",
          "Name: lightyellow<br>Position: -5,-5,167<br>Size: 100<br>Temp: N/A<br>Color: lightyellow<br>Desc: N/A",
          "Name: lime<br>Position: -5,-5,169<br>Size: 100<br>Temp: N/A<br>Color: lime<br>Desc: N/A",
          "Name: limegreen<br>Position: -5,-5,171<br>Size: 100<br>Temp: N/A<br>Color: limegreen<br>Desc: N/A",
          "Name: linen<br>Position: -5,-5,173<br>Size: 100<br>Temp: N/A<br>Color: linen<br>Desc: N/A",
          "Name: magenta<br>Position: -5,-5,175<br>Size: 100<br>Temp: N/A<br>Color: magenta<br>Desc: N/A",
          "Name: maroon<br>Position: -5,-5,177<br>Size: 100<br>Temp: N/A<br>Color: maroon<br>Desc: N/A",
          "Name: mediumaquamarine<br>Position: -5,-5,179<br>Size: 100<br>Temp: N/A<br>Color: mediumaquamarine<br>Desc: N/A",
          "Name: mediumblue<br>Position: -5,-5,181<br>Size: 100<br>Temp: N/A<br>Color: mediumblue<br>Desc: N/A",
          "Name: mediumorchid<br>Position: -5,-5,183<br>Size: 100<br>Temp: N/A<br>Color: mediumorchid<br>Desc: N/A",
          "Name: mediumpurple<br>Position: -5,-5,185<br>Size: 100<br>Temp: N/A<br>Color: mediumpurple<br>Desc: N/A",
          "Name: mediumseagreen<br>Position: -5,-5,187<br>Size: 100<br>Temp: N/A<br>Color: mediumseagreen<br>Desc: N/A",
          "Name: mediumslateblue<br>Position: -5,-5,189<br>Size: 100<br>Temp: N/A<br>Color: mediumslateblue<br>Desc: N/A",
          "Name: mediumspringgreen<br>Position: -5,-5,191<br>Size: 100<br>Temp: N/A<br>Color: mediumspringgreen<br>Desc: N/A",
          "Name: mediumturquoise<br>Position: -5,-5,193<br>Size: 100<br>Temp: N/A<br>Color: mediumturquoise<br>Desc: N/A",
          "Name: mediumvioletred<br>Position: -5,-5,195<br>Size: 100<br>Temp: N/A<br>Color: mediumvioletred<br>Desc: N/A",
          "Name: midnightblue<br>Position: -5,-5,197<br>Size: 100<br>Temp: N/A<br>Color: midnightblue<br>Desc: N/A",
          "Name: mintcream<br>Position: -5,-5,199<br>Size: 100<br>Temp: N/A<br>Color: mintcream<br>Desc: N/A",
          "Name: mistyrose<br>Position: -5,-5,201<br>Size: 100<br>Temp: N/A<br>Color: mistyrose<br>Desc: N/A",
          "Name: moccasin<br>Position: -5,-5,203<br>Size: 100<br>Temp: N/A<br>Color: moccasin<br>Desc: N/A",
          "Name: navajowhite<br>Position: -5,-5,205<br>Size: 100<br>Temp: N/A<br>Color: navajowhite<br>Desc: N/A",
          "Name: navy<br>Position: -5,-5,207<br>Size: 100<br>Temp: N/A<br>Color: navy<br>Desc: N/A",
          "Name: oldlace<br>Position: -5,-5,209<br>Size: 100<br>Temp: N/A<br>Color: oldlace<br>Desc: N/A",
          "Name: olive<br>Position: -5,-5,211<br>Size: 100<br>Temp: N/A<br>Color: olive<br>Desc: N/A",
          "Name: olivedrab<br>Position: -5,-5,213<br>Size: 100<br>Temp: N/A<br>Color: olivedrab<br>Desc: N/A",
          "Name: orange<br>Position: -5,-5,215<br>Size: 100<br>Temp: N/A<br>Color: orange<br>Desc: N/A",
          "Name: orangered<br>Position: -5,-5,217<br>Size: 100<br>Temp: N/A<br>Color: orangered<br>Desc: N/A",
          "Name: orchid<br>Position: -5,-5,219<br>Size: 100<br>Temp: N/A<br>Color: orchid<br>Desc: N/A",
          "Name: palegoldenrod<br>Position: -5,-5,221<br>Size: 100<br>Temp: N/A<br>Color: palegoldenrod<br>Desc: N/A",
          "Name: palegreen<br>Position: -5,-5,223<br>Size: 100<br>Temp: N/A<br>Color: palegreen<br>Desc: N/A",
          "Name: paleturquoise<br>Position: -5,-5,225<br>Size: 100<br>Temp: N/A<br>Color: paleturquoise<br>Desc: N/A",
          "Name: palevioletred<br>Position: -5,-5,227<br>Size: 100<br>Temp: N/A<br>Color: palevioletred<br>Desc: N/A",
          "Name: papayawhip<br>Position: -5,-5,229<br>Size: 100<br>Temp: N/A<br>Color: papayawhip<br>Desc: N/A",
          "Name: peachpuff<br>Position: -5,-5,231<br>Size: 100<br>Temp: N/A<br>Color: peachpuff<br>Desc: N/A",
          "Name: peru<br>Position: -5,-5,233<br>Size: 100<br>Temp: N/A<br>Color: peru<br>Desc: N/A",
          "Name: pink<br>Position: -5,-5,235<br>Size: 100<br>Temp: N/A<br>Color: pink<br>Desc: N/A",
          "Name: plum<br>Position: -5,-5,237<br>Size: 100<br>Temp: N/A<br>Color: plum<br>Desc: N/A",
          "Name: powderblue<br>Position: -5,-5,239<br>Size: 100<br>Temp: N/A<br>Color: powderblue<br>Desc: N/A",
          "Name: purple<br>Position: -5,-5,241<br>Size: 100<br>Temp: N/A<br>Color: purple<br>Desc: N/A",
          "Name: red<br>Position: -5,-5,243<br>Size: 100<br>Temp: N/A<br>Color: red<br>Desc: N/A",
          "Name: rosybrown<br>Position: -5,-5,245<br>Size: 100<br>Temp: N/A<br>Color: rosybrown<br>Desc: N/A",
          "Name: royalblue<br>Position: -5,-5,247<br>Size: 100<br>Temp: N/A<br>Color: royalblue<br>Desc: N/A",
          "Name: rebeccapurple<br>Position: -5,-5,249<br>Size: 100<br>Temp: N/A<br>Color: rebeccapurple<br>Desc: N/A",
          "Name: saddlebrown<br>Position: -5,-5,251<br>Size: 100<br>Temp: N/A<br>Color: saddlebrown<br>Desc: N/A",
          "Name: salmon<br>Position: -5,-5,253<br>Size: 100<br>Temp: N/A<br>Color: salmon<br>Desc: N/A",
          "Name: sandybrown<br>Position: -5,-5,255<br>Size: 100<br>Temp: N/A<br>Color: sandybrown<br>Desc: N/A",
          "Name: seagreen<br>Position: -5,-5,257<br>Size: 100<br>Temp: N/A<br>Color: seagreen<br>Desc: N/A",
          "Name: seashell<br>Position: -5,-5,259<br>Size: 100<br>Temp: N/A<br>Color: seashell<br>Desc: N/A",
          "Name: sienna<br>Position: -5,-5,261<br>Size: 100<br>Temp: N/A<br>Color: sienna<br>Desc: N/A",
          "Name: silver<br>Position: -5,-5,263<br>Size: 100<br>Temp: N/A<br>Color: silver<br>Desc: N/A",
          "Name: skyblue<br>Position: -5,-5,265<br>Size: 100<br>Temp: N/A<br>Color: skyblue<br>Desc: N/A",
          "Name: slateblue<br>Position: -5,-5,267<br>Size: 100<br>Temp: N/A<br>Color: slateblue<br>Desc: N/A",
          "Name: slategray<br>Position: -5,-5,269<br>Size: 100<br>Temp: N/A<br>Color: slategray<br>Desc: N/A",
          "Name: slategrey<br>Position: -5,-5,271<br>Size: 100<br>Temp: N/A<br>Color: slategrey<br>Desc: N/A",
          "Name: snow<br>Position: -5,-5,273<br>Size: 100<br>Temp: N/A<br>Color: snow<br>Desc: N/A",
          "Name: springgreen<br>Position: -5,-5,275<br>Size: 100<br>Temp: N/A<br>Color: springgreen<br>Desc: N/A",
          "Name: steelblue<br>Position: -5,-5,277<br>Size: 100<br>Temp: N/A<br>Color: steelblue<br>Desc: N/A",
          "Name: tan<br>Position: -5,-5,279<br>Size: 100<br>Temp: N/A<br>Color: tan<br>Desc: N/A",
          "Name: teal<br>Position: -5,-5,281<br>Size: 100<br>Temp: N/A<br>Color: teal<br>Desc: N/A",
          "Name: thistle<br>Position: -5,-5,283<br>Size: 100<br>Temp: N/A<br>Color: thistle<br>Desc: N/A",
          "Name: tomato<br>Position: -5,-5,285<br>Size: 100<br>Temp: N/A<br>Color: tomato<br>Desc: N/A",
          "Name: turquoise<br>Position: -5,-5,287<br>Size: 100<br>Temp: N/A<br>Color: turquoise<br>Desc: N/A",
          "Name: violet<br>Position: -5,-5,289<br>Size: 100<br>Temp: N/A<br>Color: violet<br>Desc: N/A",
          "Name: wheat<br>Position: -5,-5,291<br>Size: 100<br>Temp: N/A<br>Color: wheat<br>Desc: N/A",
          "Name: white<br>Position: -5,-5,293<br>Size: 100<br>Temp: N/A<br>Color: white<br>Desc: N/A",
          "Name: whitesmoke<br>Position: -5,-5,295<br>Size: 100<br>Temp: N/A<br>Color: whitesmoke<br>Desc: N/A",
          "Name: yellow<br>Position: -5,-5,297<br>Size: 100<br>Temp: N/A<br>Color: yellow<br>Desc: N/A",
          "Name: yellowgreen<br>Position: -5,-5,299<br>Size: 100<br>Temp: N/A<br>Color: yellowgreen<br>Desc: N/A"
         ],
         "type": "scatter3d",
         "x": {
          "bdata": "BQAKAA8AFAAZAB4AIwAoAC0AMgA3ADwAQQBGAEsAUABVAFoAXwBkAGkA+//7//v/+//7//v/+//7//v/+//7//v/+//7//v/+//7//v/+//7//v/+//7//v/EwAsAEYAYQB9AJoAuADXAPcAGAEYARgBGAH7//v/+//7//v/+//7//v/+//7//v/+//7//v/+//7//v/+//7//v/+//7//v/+//7//v/+//7//v/+//7//v/+//7//v/+//7//v/+//7//v/+//7//v/+//7//v/+//7//v/+//7//v/+//7//v/+//7//v/+//7//v/+//7//v/+//7//v/+//7//v/+//7//v/+//7//v/+//7//v/+//7//v/+//7//v/+//7//v/+//7//v/+//7//v/+//7//v/+//7//v/+//7//v/+//7//v/+//7//v/+//7//v/+//7//v/+//7//v/+//7//v/+//7//v/+//7//v/+//7//v/+//7//v/+//7//v/+//7//v/+//7//v/+//7//v/+//7/w==",
          "dtype": "i2"
         },
         "y": {
          "bdata": "BQAFAAUABQAFAAUABQAFAAUABQAFAAUABQAFAAUABQAFAAUABQAFAAUABQAGAAgACwAPABQAGgAhACkAMgA8AEcAUwBgAG4AfQCNAJ4AsADDANcA7AACARkBGQEZARkBGQEZARkBGQEZARkBGQHYAJgAWQD7//v/+//7//v/+//7//v/+//7//v/+//7//v/+//7//v/+//7//v/+//7//v/+//7//v/+//7//v/+//7//v/+//7//v/+//7//v/+//7//v/+//7//v/+//7//v/+//7//v/+//7//v/+//7//v/+//7//v/+//7//v/+//7//v/+//7//v/+//7//v/+//7//v/+//7//v/+//7//v/+//7//v/+//7//v/+//7//v/+//7//v/+//7//v/+//7//v/+//7//v/+//7//v/+//7//v/+//7//v/+//7//v/+//7//v/+//7//v/+//7//v/+//7//v/+//7//v/+//7//v/+//7//v/+//7//v/+//7//v/+//7//v/+//7//v/+//7/w==",
          "dtype": "i2"
         },
         "z": {
          "bdata": "AAAAAAAAAAAAAAAAAAAAAAAAAAAAAAAAAAAAAAAAAAAAAAAAAAAAAAAAAAAAAAAAAAAAAAAAAAAAAAAAAAAAAAAAAAAAAAAAAAAAAAAAAAAAAAAAAAAAAAAAAAAAAAAAAAAAAAAAAAAAAAAAAAAAAAAAAAAFAAcACQALAA0ADwARABMAFQAXABkAGwAdAB8AIQAjACUAJwApACsALQAvADEAMwA1ADcAOQA7AD0APwBBAEMARQBHAEkASwBNAE8AUQBTAFUAVwBZAFsAXQBfAGEAYwBlAGcAaQBrAG0AbwBxAHMAdQB3AHkAewB9AH8AgQCDAIUAhwCJAIsAjQCPAJEAkwCVAJcAmQCbAJ0AnwChAKMApQCnAKkAqwCtAK8AsQCzALUAtwC5ALsAvQC/AMEAwwDFAMcAyQDLAM0AzwDRANMA1QDXANkA2wDdAN8A4QDjAOUA5wDpAOsA7QDvAPEA8wD1APcA+QD7AP0A/wABAQMBBQEHAQkBCwENAQ8BEQETARUBFwEZARsBHQEfASEBIwElAScBKQErAQ==",
          "dtype": "i2"
         }
        },
        {
         "hoverinfo": "skip",
         "line": {
          "color": "red",
          "width": 1
         },
         "mode": "lines",
         "name": "X Axis",
         "type": "scatter3d",
         "x": [
          -400,
          400
         ],
         "y": [
          0,
          0
         ],
         "z": [
          0,
          0
         ]
        },
        {
         "hoverinfo": "skip",
         "line": {
          "color": "green",
          "width": 1
         },
         "mode": "lines",
         "name": "Y Axis",
         "type": "scatter3d",
         "x": [
          0,
          0
         ],
         "y": [
          -400,
          400
         ],
         "z": [
          0,
          0
         ]
        },
        {
         "hoverinfo": "skip",
         "line": {
          "color": "blue",
          "width": 1
         },
         "mode": "lines",
         "name": "Z Axis",
         "type": "scatter3d",
         "x": [
          0,
          0
         ],
         "y": [
          0,
          0
         ],
         "z": [
          -400,
          400
         ]
        }
       ],
       "layout": {
        "font": {
         "color": "black",
         "family": "Book Antiqua",
         "size": 12
        },
        "scene": {
         "aspectmode": "cube",
         "bgcolor": "black",
         "xaxis": {
          "backgroundcolor": "black",
          "gridcolor": "gray",
          "range": [
           -300,
           300
          ],
          "tickfont": {
           "color": "white"
          },
          "title": {
           "font": {
            "color": "white"
           },
           "text": "X Axis"
          },
          "zeroline": true,
          "zerolinecolor": "black",
          "zerolinewidth": 1
         },
         "yaxis": {
          "backgroundcolor": "black",
          "gridcolor": "gray",
          "range": [
           -300,
           300
          ],
          "tickfont": {
           "color": "white"
          },
          "title": {
           "font": {
            "color": "white"
           },
           "text": "Y Axis"
          },
          "zeroline": true,
          "zerolinecolor": "black",
          "zerolinewidth": 1
         },
         "zaxis": {
          "backgroundcolor": "black",
          "gridcolor": "gray",
          "range": [
           -300,
           300
          ],
          "tickfont": {
           "color": "white"
          },
          "title": {
           "font": {
            "color": "white"
           },
           "text": "Z Axis"
          },
          "zeroline": true,
          "zerolinecolor": "black",
          "zerolinewidth": 1
         }
        },
        "template": {
         "data": {
          "bar": [
           {
            "error_x": {
             "color": "#2a3f5f"
            },
            "error_y": {
             "color": "#2a3f5f"
            },
            "marker": {
             "line": {
              "color": "#E5ECF6",
              "width": 0.5
             },
             "pattern": {
              "fillmode": "overlay",
              "size": 10,
              "solidity": 0.2
             }
            },
            "type": "bar"
           }
          ],
          "barpolar": [
           {
            "marker": {
             "line": {
              "color": "#E5ECF6",
              "width": 0.5
             },
             "pattern": {
              "fillmode": "overlay",
              "size": 10,
              "solidity": 0.2
             }
            },
            "type": "barpolar"
           }
          ],
          "carpet": [
           {
            "aaxis": {
             "endlinecolor": "#2a3f5f",
             "gridcolor": "white",
             "linecolor": "white",
             "minorgridcolor": "white",
             "startlinecolor": "#2a3f5f"
            },
            "baxis": {
             "endlinecolor": "#2a3f5f",
             "gridcolor": "white",
             "linecolor": "white",
             "minorgridcolor": "white",
             "startlinecolor": "#2a3f5f"
            },
            "type": "carpet"
           }
          ],
          "choropleth": [
           {
            "colorbar": {
             "outlinewidth": 0,
             "ticks": ""
            },
            "type": "choropleth"
           }
          ],
          "contour": [
           {
            "colorbar": {
             "outlinewidth": 0,
             "ticks": ""
            },
            "colorscale": [
             [
              0,
              "#0d0887"
             ],
             [
              0.1111111111111111,
              "#46039f"
             ],
             [
              0.2222222222222222,
              "#7201a8"
             ],
             [
              0.3333333333333333,
              "#9c179e"
             ],
             [
              0.4444444444444444,
              "#bd3786"
             ],
             [
              0.5555555555555556,
              "#d8576b"
             ],
             [
              0.6666666666666666,
              "#ed7953"
             ],
             [
              0.7777777777777778,
              "#fb9f3a"
             ],
             [
              0.8888888888888888,
              "#fdca26"
             ],
             [
              1,
              "#f0f921"
             ]
            ],
            "type": "contour"
           }
          ],
          "contourcarpet": [
           {
            "colorbar": {
             "outlinewidth": 0,
             "ticks": ""
            },
            "type": "contourcarpet"
           }
          ],
          "heatmap": [
           {
            "colorbar": {
             "outlinewidth": 0,
             "ticks": ""
            },
            "colorscale": [
             [
              0,
              "#0d0887"
             ],
             [
              0.1111111111111111,
              "#46039f"
             ],
             [
              0.2222222222222222,
              "#7201a8"
             ],
             [
              0.3333333333333333,
              "#9c179e"
             ],
             [
              0.4444444444444444,
              "#bd3786"
             ],
             [
              0.5555555555555556,
              "#d8576b"
             ],
             [
              0.6666666666666666,
              "#ed7953"
             ],
             [
              0.7777777777777778,
              "#fb9f3a"
             ],
             [
              0.8888888888888888,
              "#fdca26"
             ],
             [
              1,
              "#f0f921"
             ]
            ],
            "type": "heatmap"
           }
          ],
          "histogram": [
           {
            "marker": {
             "pattern": {
              "fillmode": "overlay",
              "size": 10,
              "solidity": 0.2
             }
            },
            "type": "histogram"
           }
          ],
          "histogram2d": [
           {
            "colorbar": {
             "outlinewidth": 0,
             "ticks": ""
            },
            "colorscale": [
             [
              0,
              "#0d0887"
             ],
             [
              0.1111111111111111,
              "#46039f"
             ],
             [
              0.2222222222222222,
              "#7201a8"
             ],
             [
              0.3333333333333333,
              "#9c179e"
             ],
             [
              0.4444444444444444,
              "#bd3786"
             ],
             [
              0.5555555555555556,
              "#d8576b"
             ],
             [
              0.6666666666666666,
              "#ed7953"
             ],
             [
              0.7777777777777778,
              "#fb9f3a"
             ],
             [
              0.8888888888888888,
              "#fdca26"
             ],
             [
              1,
              "#f0f921"
             ]
            ],
            "type": "histogram2d"
           }
          ],
          "histogram2dcontour": [
           {
            "colorbar": {
             "outlinewidth": 0,
             "ticks": ""
            },
            "colorscale": [
             [
              0,
              "#0d0887"
             ],
             [
              0.1111111111111111,
              "#46039f"
             ],
             [
              0.2222222222222222,
              "#7201a8"
             ],
             [
              0.3333333333333333,
              "#9c179e"
             ],
             [
              0.4444444444444444,
              "#bd3786"
             ],
             [
              0.5555555555555556,
              "#d8576b"
             ],
             [
              0.6666666666666666,
              "#ed7953"
             ],
             [
              0.7777777777777778,
              "#fb9f3a"
             ],
             [
              0.8888888888888888,
              "#fdca26"
             ],
             [
              1,
              "#f0f921"
             ]
            ],
            "type": "histogram2dcontour"
           }
          ],
          "mesh3d": [
           {
            "colorbar": {
             "outlinewidth": 0,
             "ticks": ""
            },
            "type": "mesh3d"
           }
          ],
          "parcoords": [
           {
            "line": {
             "colorbar": {
              "outlinewidth": 0,
              "ticks": ""
             }
            },
            "type": "parcoords"
           }
          ],
          "pie": [
           {
            "automargin": true,
            "type": "pie"
           }
          ],
          "scatter": [
           {
            "fillpattern": {
             "fillmode": "overlay",
             "size": 10,
             "solidity": 0.2
            },
            "type": "scatter"
           }
          ],
          "scatter3d": [
           {
            "line": {
             "colorbar": {
              "outlinewidth": 0,
              "ticks": ""
             }
            },
            "marker": {
             "colorbar": {
              "outlinewidth": 0,
              "ticks": ""
             }
            },
            "type": "scatter3d"
           }
          ],
          "scattercarpet": [
           {
            "marker": {
             "colorbar": {
              "outlinewidth": 0,
              "ticks": ""
             }
            },
            "type": "scattercarpet"
           }
          ],
          "scattergeo": [
           {
            "marker": {
             "colorbar": {
              "outlinewidth": 0,
              "ticks": ""
             }
            },
            "type": "scattergeo"
           }
          ],
          "scattergl": [
           {
            "marker": {
             "colorbar": {
              "outlinewidth": 0,
              "ticks": ""
             }
            },
            "type": "scattergl"
           }
          ],
          "scattermap": [
           {
            "marker": {
             "colorbar": {
              "outlinewidth": 0,
              "ticks": ""
             }
            },
            "type": "scattermap"
           }
          ],
          "scattermapbox": [
           {
            "marker": {
             "colorbar": {
              "outlinewidth": 0,
              "ticks": ""
             }
            },
            "type": "scattermapbox"
           }
          ],
          "scatterpolar": [
           {
            "marker": {
             "colorbar": {
              "outlinewidth": 0,
              "ticks": ""
             }
            },
            "type": "scatterpolar"
           }
          ],
          "scatterpolargl": [
           {
            "marker": {
             "colorbar": {
              "outlinewidth": 0,
              "ticks": ""
             }
            },
            "type": "scatterpolargl"
           }
          ],
          "scatterternary": [
           {
            "marker": {
             "colorbar": {
              "outlinewidth": 0,
              "ticks": ""
             }
            },
            "type": "scatterternary"
           }
          ],
          "surface": [
           {
            "colorbar": {
             "outlinewidth": 0,
             "ticks": ""
            },
            "colorscale": [
             [
              0,
              "#0d0887"
             ],
             [
              0.1111111111111111,
              "#46039f"
             ],
             [
              0.2222222222222222,
              "#7201a8"
             ],
             [
              0.3333333333333333,
              "#9c179e"
             ],
             [
              0.4444444444444444,
              "#bd3786"
             ],
             [
              0.5555555555555556,
              "#d8576b"
             ],
             [
              0.6666666666666666,
              "#ed7953"
             ],
             [
              0.7777777777777778,
              "#fb9f3a"
             ],
             [
              0.8888888888888888,
              "#fdca26"
             ],
             [
              1,
              "#f0f921"
             ]
            ],
            "type": "surface"
           }
          ],
          "table": [
           {
            "cells": {
             "fill": {
              "color": "#EBF0F8"
             },
             "line": {
              "color": "white"
             }
            },
            "header": {
             "fill": {
              "color": "#C8D4E3"
             },
             "line": {
              "color": "white"
             }
            },
            "type": "table"
           }
          ]
         },
         "layout": {
          "annotationdefaults": {
           "arrowcolor": "#2a3f5f",
           "arrowhead": 0,
           "arrowwidth": 1
          },
          "autotypenumbers": "strict",
          "coloraxis": {
           "colorbar": {
            "outlinewidth": 0,
            "ticks": ""
           }
          },
          "colorscale": {
           "diverging": [
            [
             0,
             "#8e0152"
            ],
            [
             0.1,
             "#c51b7d"
            ],
            [
             0.2,
             "#de77ae"
            ],
            [
             0.3,
             "#f1b6da"
            ],
            [
             0.4,
             "#fde0ef"
            ],
            [
             0.5,
             "#f7f7f7"
            ],
            [
             0.6,
             "#e6f5d0"
            ],
            [
             0.7,
             "#b8e186"
            ],
            [
             0.8,
             "#7fbc41"
            ],
            [
             0.9,
             "#4d9221"
            ],
            [
             1,
             "#276419"
            ]
           ],
           "sequential": [
            [
             0,
             "#0d0887"
            ],
            [
             0.1111111111111111,
             "#46039f"
            ],
            [
             0.2222222222222222,
             "#7201a8"
            ],
            [
             0.3333333333333333,
             "#9c179e"
            ],
            [
             0.4444444444444444,
             "#bd3786"
            ],
            [
             0.5555555555555556,
             "#d8576b"
            ],
            [
             0.6666666666666666,
             "#ed7953"
            ],
            [
             0.7777777777777778,
             "#fb9f3a"
            ],
            [
             0.8888888888888888,
             "#fdca26"
            ],
            [
             1,
             "#f0f921"
            ]
           ],
           "sequentialminus": [
            [
             0,
             "#0d0887"
            ],
            [
             0.1111111111111111,
             "#46039f"
            ],
            [
             0.2222222222222222,
             "#7201a8"
            ],
            [
             0.3333333333333333,
             "#9c179e"
            ],
            [
             0.4444444444444444,
             "#bd3786"
            ],
            [
             0.5555555555555556,
             "#d8576b"
            ],
            [
             0.6666666666666666,
             "#ed7953"
            ],
            [
             0.7777777777777778,
             "#fb9f3a"
            ],
            [
             0.8888888888888888,
             "#fdca26"
            ],
            [
             1,
             "#f0f921"
            ]
           ]
          },
          "colorway": [
           "#636efa",
           "#EF553B",
           "#00cc96",
           "#ab63fa",
           "#FFA15A",
           "#19d3f3",
           "#FF6692",
           "#B6E880",
           "#FF97FF",
           "#FECB52"
          ],
          "font": {
           "color": "#2a3f5f"
          },
          "geo": {
           "bgcolor": "white",
           "lakecolor": "white",
           "landcolor": "#E5ECF6",
           "showlakes": true,
           "showland": true,
           "subunitcolor": "white"
          },
          "hoverlabel": {
           "align": "left"
          },
          "hovermode": "closest",
          "mapbox": {
           "style": "light"
          },
          "paper_bgcolor": "white",
          "plot_bgcolor": "#E5ECF6",
          "polar": {
           "angularaxis": {
            "gridcolor": "white",
            "linecolor": "white",
            "ticks": ""
           },
           "bgcolor": "#E5ECF6",
           "radialaxis": {
            "gridcolor": "white",
            "linecolor": "white",
            "ticks": ""
           }
          },
          "scene": {
           "xaxis": {
            "backgroundcolor": "#E5ECF6",
            "gridcolor": "white",
            "gridwidth": 2,
            "linecolor": "white",
            "showbackground": true,
            "ticks": "",
            "zerolinecolor": "white"
           },
           "yaxis": {
            "backgroundcolor": "#E5ECF6",
            "gridcolor": "white",
            "gridwidth": 2,
            "linecolor": "white",
            "showbackground": true,
            "ticks": "",
            "zerolinecolor": "white"
           },
           "zaxis": {
            "backgroundcolor": "#E5ECF6",
            "gridcolor": "white",
            "gridwidth": 2,
            "linecolor": "white",
            "showbackground": true,
            "ticks": "",
            "zerolinecolor": "white"
           }
          },
          "shapedefaults": {
           "line": {
            "color": "#2a3f5f"
           }
          },
          "ternary": {
           "aaxis": {
            "gridcolor": "white",
            "linecolor": "white",
            "ticks": ""
           },
           "baxis": {
            "gridcolor": "white",
            "linecolor": "white",
            "ticks": ""
           },
           "bgcolor": "#E5ECF6",
           "caxis": {
            "gridcolor": "white",
            "linecolor": "white",
            "ticks": ""
           }
          },
          "title": {
           "x": 0.05
          },
          "xaxis": {
           "automargin": true,
           "gridcolor": "white",
           "linecolor": "white",
           "ticks": "",
           "title": {
            "standoff": 15
           },
           "zerolinecolor": "white",
           "zerolinewidth": 2
          },
          "yaxis": {
           "automargin": true,
           "gridcolor": "white",
           "linecolor": "white",
           "ticks": "",
           "title": {
            "standoff": 15
           },
           "zerolinecolor": "white",
           "zerolinewidth": 2
          }
         }
        }
       }
      }
     },
     "metadata": {},
     "output_type": "display_data"
    }
   ],
   "source": [
    "scatter = go.Scatter3d(\n",
    "        # Position values\n",
    "    x=df2['x'],\n",
    "    y=df2['y'],\n",
    "    z=df2['z'],\n",
    "    text=df2['text'],\n",
    "        # Hover infos\n",
    "    hovertemplate='%{text}<extra></extra>',\n",
    "    mode='markers',\n",
    "    marker=dict(\n",
    "            # Size options\n",
    "        size=df2['size'],\n",
    "        sizemode='area',\n",
    "        sizeref=sizeref,\n",
    "        sizemin = 3,\n",
    "            # color options\n",
    "        color=df2['parameter'],\n",
    "        colorscale='thermal',\n",
    "        cmin=-100,\n",
    "        cmax=100,\n",
    "            # Color bar options\n",
    "        colorbar=dict(\n",
    "            orientation='h',  # horizontal\n",
    "            title=dict(\n",
    "                text='Astronomical Object Temp Scale',\n",
    "                font=dict(color='black')\n",
    "            ),\n",
    "            thickness=15,\n",
    "            tickcolor='black',\n",
    "            tickfont=dict(color='black'),\n",
    "            x=0.5,             # pusat horizontal\n",
    "            xanchor='center',\n",
    "            y=-0.2             # geser ke bawah\n",
    "        ),\n",
    "        opacity=0.8\n",
    "    ),\n",
    "    name='Data'\n",
    ")\n",
    "\n",
    "# Custom axis lines\n",
    "axis_x = go.Scatter3d(x=[-400, 400], y=[0, 0], z=[0, 0], mode='lines',\n",
    "                      line=dict(\n",
    "                          color='red', \n",
    "                          width=1), \n",
    "                          name='X Axis',\n",
    "                          hoverinfo='skip')\n",
    "axis_y = go.Scatter3d(x=[0, 0], y=[-400, 400], z=[0, 0], mode='lines',\n",
    "                      line=dict(\n",
    "                          color='green', \n",
    "                          width=1), \n",
    "                          name='Y Axis',\n",
    "                          hoverinfo='skip')\n",
    "axis_z = go.Scatter3d(x=[0, 0], y=[0, 0], z=[-400, 400], mode='lines',\n",
    "                      line=dict(\n",
    "                          color='blue', \n",
    "                          width=1), \n",
    "                          name='Z Axis',\n",
    "                          hoverinfo='skip')\n",
    "\n",
    "fig = go.Figure(data=[scatter, axis_x, axis_y, axis_z])\n",
    "\n",
    "# Tampilkan garis sumbu dan atur rentang dari -50 sampai 50\n",
    "fig.update_layout(\n",
    "    scene=dict(\n",
    "        aspectmode='cube',\n",
    "        xaxis=dict(\n",
    "            range=[-300, 300],\n",
    "            title=dict(\n",
    "                text='X Axis',\n",
    "                font=dict(color='white')\n",
    "            ),\n",
    "            tickfont=dict(color='white'),\n",
    "            zeroline=True,\n",
    "            zerolinecolor='black',\n",
    "            zerolinewidth=1,\n",
    "            backgroundcolor='black', \n",
    "            gridcolor='gray'\n",
    "        ),\n",
    "        yaxis=dict(\n",
    "            range=[-300, 300],\n",
    "            title=dict(\n",
    "                text='Y Axis',\n",
    "                font=dict(color='white')\n",
    "            ),\n",
    "            tickfont=dict(color='white'),\n",
    "            zeroline=True,\n",
    "            zerolinecolor='black',\n",
    "            zerolinewidth=1,\n",
    "            backgroundcolor='black', \n",
    "            gridcolor='gray'\n",
    "        ),\n",
    "        zaxis=dict(\n",
    "            range=[-300, 300],\n",
    "            title=dict(\n",
    "                text='Z Axis',\n",
    "                font=dict(color='white')\n",
    "            ),\n",
    "            tickfont=dict(color='white'),\n",
    "            zeroline=True,\n",
    "            zerolinecolor='black',\n",
    "            zerolinewidth=1,\n",
    "            backgroundcolor='black', \n",
    "            gridcolor='gray'\n",
    "        ),\n",
    "    bgcolor='black',\n",
    "    ),\n",
    "    font=dict(\n",
    "        family='Book Antiqua',\n",
    "        size=12,\n",
    "        color='black'\n",
    "    )    \n",
    ")\n",
    "\n",
    "print(\"Open the HTML file for better view\")\n",
    "fig.show()\n",
    "fig.write_html(\"parameters example embed.html\", include_plotlyjs='embed')\n",
    "fig.write_html(\"parameters example cdn.html\", include_plotlyjs='cdn')"
   ]
  },
  {
   "cell_type": "markdown",
   "id": "9b58a2ac",
   "metadata": {},
   "source": [
    "# Interactive 5D Scatterplot"
   ]
  },
  {
   "cell_type": "markdown",
   "id": "f7ae9784",
   "metadata": {},
   "source": [
    "## Owned Planets Only"
   ]
  },
  {
   "cell_type": "code",
   "execution_count": 5,
   "id": "466175a0",
   "metadata": {},
   "outputs": [
    {
     "data": {
      "text/html": [
       "<div>\n",
       "<style scoped>\n",
       "    .dataframe tbody tr th:only-of-type {\n",
       "        vertical-align: middle;\n",
       "    }\n",
       "\n",
       "    .dataframe tbody tr th {\n",
       "        vertical-align: top;\n",
       "    }\n",
       "\n",
       "    .dataframe thead th {\n",
       "        text-align: right;\n",
       "    }\n",
       "</style>\n",
       "<table border=\"1\" class=\"dataframe\">\n",
       "  <thead>\n",
       "    <tr style=\"text-align: right;\">\n",
       "      <th></th>\n",
       "      <th>name</th>\n",
       "      <th>x</th>\n",
       "      <th>y</th>\n",
       "      <th>z</th>\n",
       "      <th>temp</th>\n",
       "      <th>size</th>\n",
       "      <th>desc</th>\n",
       "    </tr>\n",
       "  </thead>\n",
       "  <tbody>\n",
       "    <tr>\n",
       "      <th>0</th>\n",
       "      <td>Abc</td>\n",
       "      <td>2</td>\n",
       "      <td>4</td>\n",
       "      <td>5</td>\n",
       "      <td>22</td>\n",
       "      <td>2</td>\n",
       "      <td>wxyz</td>\n",
       "    </tr>\n",
       "    <tr>\n",
       "      <th>1</th>\n",
       "      <td>Def</td>\n",
       "      <td>8</td>\n",
       "      <td>7</td>\n",
       "      <td>6</td>\n",
       "      <td>35</td>\n",
       "      <td>2</td>\n",
       "      <td>stuv</td>\n",
       "    </tr>\n",
       "    <tr>\n",
       "      <th>2</th>\n",
       "      <td>Ghi</td>\n",
       "      <td>-9</td>\n",
       "      <td>-10</td>\n",
       "      <td>-11</td>\n",
       "      <td>24</td>\n",
       "      <td>3</td>\n",
       "      <td>pqrs</td>\n",
       "    </tr>\n",
       "    <tr>\n",
       "      <th>3</th>\n",
       "      <td>Jkl</td>\n",
       "      <td>-12</td>\n",
       "      <td>-13</td>\n",
       "      <td>-14</td>\n",
       "      <td>33</td>\n",
       "      <td>4</td>\n",
       "      <td>lmno</td>\n",
       "    </tr>\n",
       "    <tr>\n",
       "      <th>4</th>\n",
       "      <td>Mno</td>\n",
       "      <td>15</td>\n",
       "      <td>20</td>\n",
       "      <td>23</td>\n",
       "      <td>26</td>\n",
       "      <td>1</td>\n",
       "      <td>NaN</td>\n",
       "    </tr>\n",
       "    <tr>\n",
       "      <th>5</th>\n",
       "      <td>Pqr</td>\n",
       "      <td>16</td>\n",
       "      <td>19</td>\n",
       "      <td>22</td>\n",
       "      <td>31</td>\n",
       "      <td>3</td>\n",
       "      <td>NaN</td>\n",
       "    </tr>\n",
       "    <tr>\n",
       "      <th>6</th>\n",
       "      <td>Rst</td>\n",
       "      <td>17</td>\n",
       "      <td>18</td>\n",
       "      <td>21</td>\n",
       "      <td>28</td>\n",
       "      <td>6</td>\n",
       "      <td>NaN</td>\n",
       "    </tr>\n",
       "    <tr>\n",
       "      <th>7</th>\n",
       "      <td>Suya's Planet</td>\n",
       "      <td>122</td>\n",
       "      <td>221</td>\n",
       "      <td>212</td>\n",
       "      <td>0</td>\n",
       "      <td>6</td>\n",
       "      <td>NaN</td>\n",
       "    </tr>\n",
       "  </tbody>\n",
       "</table>\n",
       "</div>"
      ],
      "text/plain": [
       "            name    x    y    z  temp  size  desc\n",
       "0            Abc    2    4    5    22     2  wxyz\n",
       "1            Def    8    7    6    35     2  stuv\n",
       "2            Ghi   -9  -10  -11    24     3  pqrs\n",
       "3            Jkl  -12  -13  -14    33     4  lmno\n",
       "4            Mno   15   20   23    26     1   NaN\n",
       "5            Pqr   16   19   22    31     3   NaN\n",
       "6            Rst   17   18   21    28     6   NaN\n",
       "7  Suya's Planet  122  221  212     0     6   NaN"
      ]
     },
     "metadata": {},
     "output_type": "display_data"
    }
   ],
   "source": [
    "# Load a specific sheet by name\n",
    "df = pd.read_excel('Astrocosmos.xlsx', sheet_name='Planets')\n",
    "display(df)"
   ]
  },
  {
   "cell_type": "code",
   "execution_count": null,
   "id": "81ae17d1",
   "metadata": {},
   "outputs": [],
   "source": [
    "df[['name', 'x', 'y', 'z', 'size', 'temp', 'desc']] = df[['name', 'x', 'y', 'z', 'size', 'temp', 'desc']].fillna('N/A')\n",
    "\n",
    "df['parameter'] = df['color'].where(~df['color'].isna(), df['temp'])\n",
    "\n",
    "df['text'] = (\n",
    "    \"Name: \" + df['name'] +\n",
    "    \"<br>Position: \" + df['x'].astype(str) + \",\" + df['y'].astype(str) + \",\" + df['z'].astype(str) +\n",
    "    \"<br>Size: \" + df['size'].astype(str) +\n",
    "    \"<br>Temp: \" + df['temp'].astype(str) +\n",
    "    \"<br>Color: \" + df['color'].astype(str) +\n",
    "    \"<br>Desc: \" + df['desc']\n",
    ")"
   ]
  },
  {
   "cell_type": "code",
   "execution_count": 46,
   "id": "7567d9ae",
   "metadata": {},
   "outputs": [
    {
     "ename": "NameError",
     "evalue": "name 'df' is not defined",
     "output_type": "error",
     "traceback": [
      "\u001b[31m---------------------------------------------------------------------------\u001b[39m",
      "\u001b[31mNameError\u001b[39m                                 Traceback (most recent call last)",
      "\u001b[36mCell\u001b[39m\u001b[36m \u001b[39m\u001b[32mIn[46]\u001b[39m\u001b[32m, line 2\u001b[39m\n\u001b[32m      1\u001b[39m scatter = go.Scatter3d(\n\u001b[32m----> \u001b[39m\u001b[32m2\u001b[39m     x=\u001b[43mdf\u001b[49m[\u001b[33m'\u001b[39m\u001b[33mx\u001b[39m\u001b[33m'\u001b[39m],\n\u001b[32m      3\u001b[39m     y=df[\u001b[33m'\u001b[39m\u001b[33my\u001b[39m\u001b[33m'\u001b[39m],\n\u001b[32m      4\u001b[39m     z=df[\u001b[33m'\u001b[39m\u001b[33mz\u001b[39m\u001b[33m'\u001b[39m],\n\u001b[32m      5\u001b[39m     text=df[\u001b[33m'\u001b[39m\u001b[33mtext\u001b[39m\u001b[33m'\u001b[39m],\n\u001b[32m      6\u001b[39m     hovertemplate=\u001b[33m'\u001b[39m\u001b[33m%\u001b[39m\u001b[38;5;132;01m{text}\u001b[39;00m\u001b[33m<extra></extra>\u001b[39m\u001b[33m'\u001b[39m,\n\u001b[32m      7\u001b[39m     mode=\u001b[33m'\u001b[39m\u001b[33mmarkers\u001b[39m\u001b[33m'\u001b[39m,\n\u001b[32m      8\u001b[39m     marker=\u001b[38;5;28mdict\u001b[39m(\n\u001b[32m      9\u001b[39m         size=df[\u001b[33m'\u001b[39m\u001b[33msize\u001b[39m\u001b[33m'\u001b[39m],\n\u001b[32m     10\u001b[39m         sizemode=\u001b[33m'\u001b[39m\u001b[33marea\u001b[39m\u001b[33m'\u001b[39m,\n\u001b[32m     11\u001b[39m         color=df[\u001b[33m'\u001b[39m\u001b[33mparameter\u001b[39m\u001b[33m'\u001b[39m],\n\u001b[32m     12\u001b[39m         colorscale=\u001b[33m'\u001b[39m\u001b[33mthermal\u001b[39m\u001b[33m'\u001b[39m,\n\u001b[32m     13\u001b[39m         cmin=-\u001b[32m100\u001b[39m,\n\u001b[32m     14\u001b[39m         cmax=\u001b[32m100\u001b[39m,\n\u001b[32m     15\u001b[39m         colorbar=\u001b[38;5;28mdict\u001b[39m(\n\u001b[32m     16\u001b[39m             orientation=\u001b[33m'\u001b[39m\u001b[33mh\u001b[39m\u001b[33m'\u001b[39m,  \u001b[38;5;66;03m# horizontal\u001b[39;00m\n\u001b[32m     17\u001b[39m             title=\u001b[38;5;28mdict\u001b[39m(\n\u001b[32m     18\u001b[39m                 text=\u001b[33m'\u001b[39m\u001b[33mAstronomical Object Temp Scale\u001b[39m\u001b[33m'\u001b[39m,\n\u001b[32m     19\u001b[39m                 font=\u001b[38;5;28mdict\u001b[39m(color=\u001b[33m'\u001b[39m\u001b[33mblack\u001b[39m\u001b[33m'\u001b[39m)\n\u001b[32m     20\u001b[39m             ),\n\u001b[32m     21\u001b[39m             thickness=\u001b[32m15\u001b[39m,\n\u001b[32m     22\u001b[39m             tickcolor=\u001b[33m'\u001b[39m\u001b[33mblack\u001b[39m\u001b[33m'\u001b[39m,\n\u001b[32m     23\u001b[39m             tickfont=\u001b[38;5;28mdict\u001b[39m(color=\u001b[33m'\u001b[39m\u001b[33mblack\u001b[39m\u001b[33m'\u001b[39m),\n\u001b[32m     24\u001b[39m             x=\u001b[32m0.5\u001b[39m,             \u001b[38;5;66;03m# pusat horizontal\u001b[39;00m\n\u001b[32m     25\u001b[39m             xanchor=\u001b[33m'\u001b[39m\u001b[33mcenter\u001b[39m\u001b[33m'\u001b[39m,\n\u001b[32m     26\u001b[39m             y=-\u001b[32m0.2\u001b[39m             \u001b[38;5;66;03m# geser ke bawah\u001b[39;00m\n\u001b[32m     27\u001b[39m         ),\n\u001b[32m     28\u001b[39m         opacity=\u001b[32m0.8\u001b[39m\n\u001b[32m     29\u001b[39m     ),\n\u001b[32m     30\u001b[39m     name=\u001b[33m'\u001b[39m\u001b[33mData\u001b[39m\u001b[33m'\u001b[39m\n\u001b[32m     31\u001b[39m )\n\u001b[32m     33\u001b[39m \u001b[38;5;66;03m# Custom axis lines\u001b[39;00m\n\u001b[32m     34\u001b[39m axis_x = go.Scatter3d(x=[-\u001b[32m400\u001b[39m, \u001b[32m400\u001b[39m], y=[\u001b[32m0\u001b[39m, \u001b[32m0\u001b[39m], z=[\u001b[32m0\u001b[39m, \u001b[32m0\u001b[39m], mode=\u001b[33m'\u001b[39m\u001b[33mlines\u001b[39m\u001b[33m'\u001b[39m,\n\u001b[32m     35\u001b[39m                       line=\u001b[38;5;28mdict\u001b[39m(\n\u001b[32m     36\u001b[39m                           color=\u001b[33m'\u001b[39m\u001b[33mred\u001b[39m\u001b[33m'\u001b[39m, \n\u001b[32m     37\u001b[39m                           width=\u001b[32m1\u001b[39m), \n\u001b[32m     38\u001b[39m                           name=\u001b[33m'\u001b[39m\u001b[33mX Axis\u001b[39m\u001b[33m'\u001b[39m,\n\u001b[32m     39\u001b[39m                           hoverinfo=\u001b[33m'\u001b[39m\u001b[33mskip\u001b[39m\u001b[33m'\u001b[39m)\n",
      "\u001b[31mNameError\u001b[39m: name 'df' is not defined"
     ]
    }
   ],
   "source": [
    "scatter = go.Scatter3d(\n",
    "    x=df['x'],\n",
    "    y=df['y'],\n",
    "    z=df['z'],\n",
    "    text=df['text'],\n",
    "    hovertemplate='%{text}<extra></extra>',\n",
    "    mode='markers',\n",
    "    marker=dict(\n",
    "        size=df['size'],\n",
    "        sizemode='area',\n",
    "        color=df['parameter'],\n",
    "        colorscale='thermal',\n",
    "        cmin=-100,\n",
    "        cmax=100,\n",
    "        colorbar=dict(\n",
    "            orientation='h',  # horizontal\n",
    "            title=dict(\n",
    "                text='Astronomical Object Temp Scale',\n",
    "                font=dict(color='black')\n",
    "            ),\n",
    "            thickness=15,\n",
    "            tickcolor='black',\n",
    "            tickfont=dict(color='black'),\n",
    "            x=0.5,             # pusat horizontal\n",
    "            xanchor='center',\n",
    "            y=-0.2             # geser ke bawah\n",
    "        ),\n",
    "        opacity=0.8\n",
    "    ),\n",
    "    name='Data'\n",
    ")\n",
    "\n",
    "# Custom axis lines\n",
    "axis_x = go.Scatter3d(x=[-400, 400], y=[0, 0], z=[0, 0], mode='lines',\n",
    "                      line=dict(\n",
    "                          color='red', \n",
    "                          width=1), \n",
    "                          name='X Axis',\n",
    "                          hoverinfo='skip')\n",
    "axis_y = go.Scatter3d(x=[0, 0], y=[-400, 400], z=[0, 0], mode='lines',\n",
    "                      line=dict(\n",
    "                          color='green', \n",
    "                          width=1), \n",
    "                          name='Y Axis',\n",
    "                          hoverinfo='skip')\n",
    "axis_z = go.Scatter3d(x=[0, 0], y=[0, 0], z=[-400, 400], mode='lines',\n",
    "                      line=dict(\n",
    "                          color='blue', \n",
    "                          width=1), \n",
    "                          name='Z Axis',\n",
    "                          hoverinfo='skip')\n",
    "\n",
    "fig = go.Figure(data=[scatter, axis_x, axis_y, axis_z])\n",
    "\n",
    "# Tampilkan garis sumbu dan atur rentang dari -50 sampai 50\n",
    "fig.update_layout(\n",
    "    scene=dict(\n",
    "        aspectmode='cube',\n",
    "        xaxis=dict(\n",
    "            range=[-300, 300],\n",
    "            title=dict(\n",
    "                text='X Axis',\n",
    "                font=dict(color='white')\n",
    "            ),\n",
    "            tickfont=dict(color='white'),\n",
    "            zeroline=True,\n",
    "            zerolinecolor='black',\n",
    "            zerolinewidth=1,\n",
    "            backgroundcolor='black', \n",
    "            gridcolor='gray'\n",
    "        ),\n",
    "        yaxis=dict(\n",
    "            range=[-300, 300],\n",
    "            title=dict(\n",
    "                text='Y Axis',\n",
    "                font=dict(color='white')\n",
    "            ),\n",
    "            tickfont=dict(color='white'),\n",
    "            zeroline=True,\n",
    "            zerolinecolor='black',\n",
    "            zerolinewidth=1,\n",
    "            backgroundcolor='black', \n",
    "            gridcolor='gray'\n",
    "        ),\n",
    "        zaxis=dict(\n",
    "            range=[-300, 300],\n",
    "            title=dict(\n",
    "                text='Z Axis',\n",
    "                font=dict(color='white')\n",
    "            ),\n",
    "            tickfont=dict(color='white'),\n",
    "            zeroline=True,\n",
    "            zerolinecolor='black',\n",
    "            zerolinewidth=1,\n",
    "            backgroundcolor='black', \n",
    "            gridcolor='gray'\n",
    "        ),\n",
    "    bgcolor='black',\n",
    "    ),\n",
    "    font=dict(\n",
    "        family='Book Antiqua',\n",
    "        size=12,\n",
    "        color='black'\n",
    "    )    \n",
    ")\n",
    "\n",
    "print(\"Open the HTML file for better view\")\n",
    "fig.show()\n",
    "fig.write_html(\"temp and size example.html\", include_plotlyjs='cdn')"
   ]
  },
  {
   "cell_type": "markdown",
   "id": "2758574c",
   "metadata": {},
   "source": [
    "## Whole Galaxy!"
   ]
  },
  {
   "cell_type": "code",
   "execution_count": null,
   "id": "4bddf419",
   "metadata": {},
   "outputs": [],
   "source": []
  }
 ],
 "metadata": {
  "kernelspec": {
   "display_name": "Python 3",
   "language": "python",
   "name": "python3"
  },
  "language_info": {
   "codemirror_mode": {
    "name": "ipython",
    "version": 3
   },
   "file_extension": ".py",
   "mimetype": "text/x-python",
   "name": "python",
   "nbconvert_exporter": "python",
   "pygments_lexer": "ipython3",
   "version": "3.13.2"
  }
 },
 "nbformat": 4,
 "nbformat_minor": 5
}
